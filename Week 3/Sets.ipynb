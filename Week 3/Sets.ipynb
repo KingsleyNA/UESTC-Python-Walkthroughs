{
 "cells": [
  {
   "cell_type": "code",
   "execution_count": 5,
   "metadata": {},
   "outputs": [
    {
     "name": "stdout",
     "output_type": "stream",
     "text": [
      "{'orange', 'cherry', 'pear', 'mango', 'pineapple', 'apple'}\n"
     ]
    }
   ],
   "source": [
    "# Venn diagram\n",
    "\n",
    "# unordered\n",
    "# cannot be changed\n",
    "# no duplicates\n",
    "\n",
    "basket = {\"mango\", \"pear\", \"orange\", \"pineapple\", \"apple\", \"cherry\", \"mango\"}\n",
    "print(basket)\n"
   ]
  },
  {
   "cell_type": "code",
   "execution_count": 18,
   "metadata": {},
   "outputs": [
    {
     "name": "stdout",
     "output_type": "stream",
     "text": [
      "{'abena', 'Abena'} {'Great', 'abena', 'Abena', 'Dr. Linda'} {'abena', 'Abena'}\n",
      "{'abena', 'King', 'Raphael', 'Edwin', 'Abena'}\n",
      "{'Great', 'abena', 'King', 'Edward', 'Sarpong', 'Raphael', 'Abena', 'Pachigo', 'Edwin', 'Isaac', 'Dr. Linda', 'Ruddy'}\n"
     ]
    }
   ],
   "source": [
    "# Practice Venn diagram\n",
    "\n",
    "\n",
    "English = {\"Ruddy\", \"Abena\", \"Great\", \"Dr. Linda\", \"Edward\", \"abena\"}\n",
    "French = {\"Raphael\", \"Abena\", \"Edwin\", \"King\", \"Abena\", \"abena\"}\n",
    "Spanish = {\"Dr. Linda\", \"Great\", \"Sarpong\", \"Pachigo\", \"Isaac\", \"Abena\", \"abena\"}\n",
    "Universal = English.union(French, Spanish)\n",
    "\n",
    "# Intersection\n",
    "EngFre = English.intersection(French)\n",
    "EngSpa = English.intersection(Spanish)\n",
    "EngFreSpa = English.intersection(French,Spanish)\n",
    "\n",
    "\n",
    "print(EngFre, EngSpa , EngFreSpa)\n",
    "print(French)\n",
    "print(Universal)"
   ]
  },
  {
   "cell_type": "code",
   "execution_count": null,
   "metadata": {
    "collapsed": true
   },
   "outputs": [],
   "source": []
  },
  {
   "cell_type": "code",
   "execution_count": 2,
   "metadata": {},
   "outputs": [
    {
     "data": {
      "text/plain": [
       "{'Ferrari', 'Ford', 'Porsche'}"
      ]
     },
     "execution_count": 2,
     "metadata": {},
     "output_type": "execute_result"
    }
   ],
   "source": [
    "cars = {\"Ferrari\", \"Porsche\", \"Ford\", \"Ford\"}\n",
    "cars"
   ]
  },
  {
   "cell_type": "code",
   "execution_count": null,
   "metadata": {
    "collapsed": true
   },
   "outputs": [],
   "source": []
  },
  {
   "cell_type": "code",
   "execution_count": null,
   "metadata": {
    "collapsed": true
   },
   "outputs": [],
   "source": []
  }
 ],
 "metadata": {
  "kernelspec": {
   "display_name": "Python 3",
   "language": "python",
   "name": "python3"
  },
  "language_info": {
   "codemirror_mode": {
    "name": "ipython",
    "version": 3
   },
   "file_extension": ".py",
   "mimetype": "text/x-python",
   "name": "python",
   "nbconvert_exporter": "python",
   "pygments_lexer": "ipython3",
   "version": "3.6.6"
  }
 },
 "nbformat": 4,
 "nbformat_minor": 2
}
