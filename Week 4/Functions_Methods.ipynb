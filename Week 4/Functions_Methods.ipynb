{
 "cells": [
  {
   "cell_type": "code",
   "execution_count": 1,
   "metadata": {
    "collapsed": true
   },
   "outputs": [],
   "source": [
    "# Four\n",
    "# - NINO - procedure\n",
    "# - NIO\n",
    "# - INO\n",
    "# - IO"
   ]
  },
  {
   "cell_type": "code",
   "execution_count": 3,
   "metadata": {
    "collapsed": true
   },
   "outputs": [],
   "source": [
    "# define a function\n",
    "def nameFunct():\n",
    "    pass\n",
    "\n",
    "nameFunct()"
   ]
  },
  {
   "cell_type": "code",
   "execution_count": 10,
   "metadata": {},
   "outputs": [
    {
     "name": "stdout",
     "output_type": "stream",
     "text": [
      "Happy birthday, Kojo\n"
     ]
    }
   ],
   "source": [
    "# NINO\n",
    "\n",
    "def happy():\n",
    "    guest = \"Kojo\"\n",
    "    print(\"Happy birthday,\", guest)\n",
    "    \n",
    "happy()"
   ]
  },
  {
   "cell_type": "code",
   "execution_count": 8,
   "metadata": {},
   "outputs": [
    {
     "name": "stdout",
     "output_type": "stream",
     "text": [
      "Happy Birthday, Kojo\n"
     ]
    }
   ],
   "source": [
    "# NIO\n",
    "\n",
    "def happy():\n",
    "    guest = \"Kojo\"\n",
    "    message = \"Happy Birthday, \" + guest\n",
    "    return message\n",
    "    \n",
    "out = happy()\n",
    "print(out)"
   ]
  },
  {
   "cell_type": "code",
   "execution_count": 15,
   "metadata": {},
   "outputs": [
    {
     "name": "stdout",
     "output_type": "stream",
     "text": [
      "Happy Birthday, Linda\n"
     ]
    }
   ],
   "source": [
    "# INO\n",
    "\n",
    "guest = \"Kojo\"\n",
    "\n",
    "def happy(x):\n",
    "    message = \"Happy Birthday, \" + x\n",
    "    print(message)\n",
    "    \n",
    "happy(\"Linda\")"
   ]
  },
  {
   "cell_type": "code",
   "execution_count": 22,
   "metadata": {},
   "outputs": [
    {
     "name": "stdout",
     "output_type": "stream",
     "text": [
      "Happy Birthday, Linda\n",
      "Happy Birthday, Edwin\n",
      "Happy Birthday, Great\n",
      "Happy Birthday, Chima\n"
     ]
    }
   ],
   "source": [
    "# IO\n",
    "\n",
    "def happy(x):\n",
    "    message = \"Happy Birthday, \" + x\n",
    "    return message\n",
    "    \n",
    "ee = happy(\"Linda\")\n",
    "rr = happy(\"Edwin\")\n",
    "cc = happy(\"Great\")\n",
    "hh = happy(\"Chima\")\n",
    "\n",
    "print(ee + \"\\n\" + rr + \"\\n\" + cc +\"\\n\" + hh)"
   ]
  },
  {
   "cell_type": "code",
   "execution_count": 63,
   "metadata": {},
   "outputs": [
    {
     "name": "stdout",
     "output_type": "stream",
     "text": [
      "Please enter the names. Separate the names with semicolons: adjls;sadsd;assd;asddfg;adsddf;asdfsadf\n",
      "<class 'tuple'>\n",
      "happy birthday, adjls\n",
      "happy birthday, sadsd\n",
      "happy birthday, asdfsadf\n",
      "happy birthday, assd\n",
      "happy birthday, asddfg\n",
      "happy birthday, adsddf\n"
     ]
    }
   ],
   "source": [
    "# Arbitrary Arguments \n",
    "# *args\n",
    "\n",
    "\n",
    "\n",
    "def happy(*x):\n",
    "    print(type(x))\n",
    "    num = len(x)\n",
    "    \n",
    "    for i in range(0, num):\n",
    "        print(\"happy birthday,\", x[i])\n",
    "\n",
    "        \n",
    "names = input(\"Please enter the names. Separate the names with semicolons: \")\n",
    "names = names.split(\";\")\n",
    "\n",
    "happy(names[0],names[1], names[5],names[2], names[3],names[4])"
   ]
  },
  {
   "cell_type": "code",
   "execution_count": 59,
   "metadata": {},
   "outputs": [
    {
     "name": "stdout",
     "output_type": "stream",
     "text": [
      "The answer is:  60\n"
     ]
    }
   ],
   "source": [
    "def add(x,y,z):\n",
    "    print(\"The answer is: \", (x+y+z))\n",
    "    \n",
    "add(10,20,30)"
   ]
  },
  {
   "cell_type": "code",
   "execution_count": 60,
   "metadata": {
    "collapsed": true
   },
   "outputs": [],
   "source": [
    "# \n",
    "# *args ---> tuples\n",
    "# **kwargs ----> dictionaries"
   ]
  },
  {
   "cell_type": "code",
   "execution_count": 62,
   "metadata": {},
   "outputs": [
    {
     "name": "stdout",
     "output_type": "stream",
     "text": [
      "<class 'dict'>\n",
      "Your dad's name is:  Jack\n",
      "Your mum's name is:  Annie\n"
     ]
    }
   ],
   "source": [
    "def profile(**person):\n",
    "    print(type(person))\n",
    "    print(\"Your dad's name is: \", person[\"dad\"])\n",
    "    print(\"Your mum's name is: \", person[\"mum\"])\n",
    "    \n",
    "profile(dad=\"Jack\", mum=\"Annie\")"
   ]
  },
  {
   "cell_type": "code",
   "execution_count": null,
   "metadata": {
    "collapsed": true
   },
   "outputs": [],
   "source": []
  },
  {
   "cell_type": "code",
   "execution_count": null,
   "metadata": {
    "collapsed": true
   },
   "outputs": [],
   "source": []
  },
  {
   "cell_type": "code",
   "execution_count": null,
   "metadata": {
    "collapsed": true
   },
   "outputs": [],
   "source": []
  },
  {
   "cell_type": "code",
   "execution_count": null,
   "metadata": {
    "collapsed": true
   },
   "outputs": [],
   "source": []
  }
 ],
 "metadata": {
  "kernelspec": {
   "display_name": "Python 3",
   "language": "python",
   "name": "python3"
  },
  "language_info": {
   "codemirror_mode": {
    "name": "ipython",
    "version": 3
   },
   "file_extension": ".py",
   "mimetype": "text/x-python",
   "name": "python",
   "nbconvert_exporter": "python",
   "pygments_lexer": "ipython3",
   "version": "3.6.6"
  }
 },
 "nbformat": 4,
 "nbformat_minor": 2
}
