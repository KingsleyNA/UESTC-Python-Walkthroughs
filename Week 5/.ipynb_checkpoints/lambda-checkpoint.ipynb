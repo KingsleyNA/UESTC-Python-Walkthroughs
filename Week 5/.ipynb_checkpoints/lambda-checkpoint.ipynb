{
 "cells": [
  {
   "cell_type": "code",
   "execution_count": 4,
   "metadata": {},
   "outputs": [
    {
     "name": "stdout",
     "output_type": "stream",
     "text": [
      "[0, 1, 8, 27, 64, 125, 216, 343, 512, 729]\n",
      "125\n",
      "None\n",
      "125\n"
     ]
    }
   ],
   "source": [
    "# lambda args : expression\n",
    "\n",
    "cube = [i**3 for i in range(10)]\n",
    "print(cube)\n",
    "\n",
    "def cube1(x):\n",
    "    print(x**3)\n",
    "\n",
    "cube2 = lambda x : x**3\n",
    "\n",
    "print(cube1(5))\n",
    "print(cube2(5))"
   ]
  },
  {
   "cell_type": "code",
   "execution_count": 9,
   "metadata": {},
   "outputs": [
    {
     "name": "stdout",
     "output_type": "stream",
     "text": [
      "the the 3 and 5\n"
     ]
    }
   ],
   "source": [
    "out = lambda x,y : \"the the \" + str(x) + \" and \" + str(y)\n",
    "print(out(3,5))"
   ]
  },
  {
   "cell_type": "code",
   "execution_count": 11,
   "metadata": {},
   "outputs": [
    {
     "name": "stdout",
     "output_type": "stream",
     "text": [
      "6\n"
     ]
    }
   ],
   "source": [
    "x = lambda a,b,c : a * b * c\n",
    "print(x(1,2,3))"
   ]
  },
  {
   "cell_type": "code",
   "execution_count": 12,
   "metadata": {
    "collapsed": true
   },
   "outputs": [],
   "source": [
    "# lambda\n",
    "      # filter()\n",
    "      # map()\n",
    "      # reduce()"
   ]
  },
  {
   "cell_type": "markdown",
   "metadata": {},
   "source": [
    "# filter()"
   ]
  },
  {
   "cell_type": "code",
   "execution_count": 17,
   "metadata": {},
   "outputs": [
    {
     "name": "stdout",
     "output_type": "stream",
     "text": [
      "[0, 2, 4, 6, 8, 10, 12, 14, 16, 18, 20, 22, 24, 26, 28, 30, 32, 34, 36, 38, 40, 42, 44, 46, 48, 50, 52, 54, 56, 58, 60, 62, 64, 66, 68, 70, 72, 74, 76, 78, 80, 82, 84, 86, 88, 90, 92, 94, 96, 98]\n"
     ]
    }
   ],
   "source": [
    "num = [i for i in range(100)]\n",
    "#print(num)\n",
    "\n",
    "even = list(filter(lambda a: (a%2==0), num))\n",
    "print(even)"
   ]
  },
  {
   "cell_type": "code",
   "execution_count": 33,
   "metadata": {},
   "outputs": [
    {
     "name": "stdout",
     "output_type": "stream",
     "text": [
      "[1133, 1339, 1545, 1751, 1957, 2163, 2369, 2575, 2781, 2987]\n"
     ]
    }
   ],
   "source": [
    "# filter out odd numbers from 1000 to 3000, which are multiples of 103\n",
    "num1 = [i for i in range(1000, 3000)]\n",
    "odd = list(filter(lambda x: (x%2==1) and (x%103==0), num1))\n",
    "\n",
    "print(odd)"
   ]
  },
  {
   "cell_type": "code",
   "execution_count": 31,
   "metadata": {},
   "outputs": [
    {
     "name": "stdout",
     "output_type": "stream",
     "text": [
      "[55, 42, 35, 23, 19, 21, 20]\n"
     ]
    }
   ],
   "source": [
    "ages = [20,21,17,17,19,23,35,42,11,7,3,1,55]\n",
    "\n",
    "adult_serv = list(filter(lambda num: num>18, ages))\n",
    "adult_serv.reverse()\n",
    "print(adult_serv)"
   ]
  },
  {
   "cell_type": "markdown",
   "metadata": {},
   "source": [
    "# map()"
   ]
  },
  {
   "cell_type": "code",
   "execution_count": 32,
   "metadata": {},
   "outputs": [
    {
     "name": "stdout",
     "output_type": "stream",
     "text": [
      "[2, 4, 6, 8, 10, 12, 14, 16]\n"
     ]
    }
   ],
   "source": [
    "x = [1,2,3,4,5,6,7,8]\n",
    "y = list(map(lambda a: a*2, x))\n",
    "\n",
    "print(y)"
   ]
  },
  {
   "cell_type": "code",
   "execution_count": null,
   "metadata": {
    "collapsed": true
   },
   "outputs": [],
   "source": []
  }
 ],
 "metadata": {
  "kernelspec": {
   "display_name": "Python 3",
   "language": "python",
   "name": "python3"
  },
  "language_info": {
   "codemirror_mode": {
    "name": "ipython",
    "version": 3
   },
   "file_extension": ".py",
   "mimetype": "text/x-python",
   "name": "python",
   "nbconvert_exporter": "python",
   "pygments_lexer": "ipython3",
   "version": "3.6.6"
  }
 },
 "nbformat": 4,
 "nbformat_minor": 2
}
