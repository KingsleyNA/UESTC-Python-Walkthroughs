{
 "cells": [
  {
   "cell_type": "code",
   "execution_count": 2,
   "metadata": {},
   "outputs": [
    {
     "name": "stdout",
     "output_type": "stream",
     "text": [
      "1\n"
     ]
    }
   ],
   "source": [
    "a = 1\n",
    "\n",
    "print(a)"
   ]
  },
  {
   "cell_type": "code",
   "execution_count": 5,
   "metadata": {},
   "outputs": [
    {
     "name": "stdout",
     "output_type": "stream",
     "text": [
      "[1, 2, 3, 4]\n"
     ]
    }
   ],
   "source": [
    "b = [1,2,3,4]\n",
    "\n",
    "print(b)"
   ]
  },
  {
   "cell_type": "code",
   "execution_count": 8,
   "metadata": {},
   "outputs": [
    {
     "name": "stdout",
     "output_type": "stream",
     "text": [
      "['uestc', 150, -9.0]\n",
      "[-9.0, 150, 'uestc']\n",
      "[['uestc', 150, -9.0], [-9.0, 150, 'uestc']]\n"
     ]
    }
   ],
   "source": [
    "a = \"uestc\"\n",
    "b = 150\n",
    "c = -9.0\n",
    "\n",
    "d = [a,b,c]\n",
    "e = [c,b,a]\n",
    "f = [d,e]\n",
    "\n",
    "print(d)\n",
    "print(e)\n",
    "print(f)"
   ]
  },
  {
   "cell_type": "code",
   "execution_count": null,
   "metadata": {
    "collapsed": true
   },
   "outputs": [],
   "source": [
    "# List vs Arrays\n",
    "\n",
    "a = [1,2,3] # array homogenous elements\n",
    "b = [\"banana\", 55, 4.0] # list  heterogenous elements"
   ]
  },
  {
   "cell_type": "code",
   "execution_count": 16,
   "metadata": {},
   "outputs": [
    {
     "name": "stdout",
     "output_type": "stream",
     "text": [
      "1.0\n",
      "2.0\n",
      "3.0\n"
     ]
    }
   ],
   "source": [
    "import array\n",
    "\n",
    "a = array.array('f', [1,2,3])\n",
    "\n",
    "for _ in a:\n",
    "    print(_)"
   ]
  },
  {
   "cell_type": "code",
   "execution_count": 19,
   "metadata": {},
   "outputs": [
    {
     "name": "stdout",
     "output_type": "stream",
     "text": [
      "two\n",
      "[1, 'two', 3, 4, 5, 6, 7, 'King']\n"
     ]
    }
   ],
   "source": [
    "f = [1,\"two\",3,4,5,6,7,8]\n",
    "\n",
    "print(f[1])\n",
    "\n",
    "\n",
    "# One can change the elements in the list\n",
    "\n",
    "f[-1] = \"King\"\n",
    "print(f)"
   ]
  },
  {
   "cell_type": "code",
   "execution_count": 20,
   "metadata": {},
   "outputs": [
    {
     "name": "stdout",
     "output_type": "stream",
     "text": [
      "[1, 2, 3, 1]\n"
     ]
    }
   ],
   "source": [
    "# Duplicates\n",
    "\n",
    "g = [1,2,3,1]\n",
    "\n",
    "print(g)"
   ]
  },
  {
   "cell_type": "code",
   "execution_count": 23,
   "metadata": {},
   "outputs": [
    {
     "data": {
      "text/plain": [
       "['King', 2, 3, 1]"
      ]
     },
     "execution_count": 23,
     "metadata": {},
     "output_type": "execute_result"
    }
   ],
   "source": [
    "g[0] = \"King\" \n",
    "g"
   ]
  },
  {
   "cell_type": "raw",
   "metadata": {
    "collapsed": true
   },
   "source": [
    "# Methods - List\n",
    "\n",
    "append()\tAdds an element at the end of the list\n",
    "clear()\t    Removes all the elements from the list\n",
    "copy()\t    Returns a copy of the list\n",
    "count()\t    Returns the number of elements with the specified value\n",
    "extend()\tAdd the elements of a list (or any iterable), to the end of the current list\n",
    "index()\t    Returns the index of the first element with the specified value\n",
    "insert()\tAdds an element at the specified position\n",
    "pop()\t    Removes the element at the specified position\n",
    "remove()\tRemoves the item with the specified value\n",
    "reverse()\tReverses the order of the list\n",
    "sort()\t    Sorts the list"
   ]
  },
  {
   "cell_type": "code",
   "execution_count": 24,
   "metadata": {},
   "outputs": [
    {
     "name": "stdout",
     "output_type": "stream",
     "text": [
      "['orange', 'mango', 'pear', 'cherry', 'orange', 'mango', 'pear', 'cherry']\n",
      "orange\n",
      "cherry\n"
     ]
    }
   ],
   "source": [
    "fruits = [\"orange\", \"mango\", \"pear\", \"cherry\", \"orange\", \"mango\", \"pear\", \"cherry\"]\n",
    "\n",
    "print(fruits)\n",
    "print(fruits[0])\n",
    "print(fruits[-1])"
   ]
  },
  {
   "cell_type": "code",
   "execution_count": 26,
   "metadata": {},
   "outputs": [
    {
     "name": "stdout",
     "output_type": "stream",
     "text": [
      "['orange', 'mango', 'pear', 'cherry', 'orange', 'mango', 'pear', 'cherry', '']\n"
     ]
    }
   ],
   "source": [
    "fruits.append(\"\")\n",
    "print(fruits)"
   ]
  },
  {
   "cell_type": "code",
   "execution_count": 27,
   "metadata": {},
   "outputs": [
    {
     "data": {
      "text/plain": [
       "['orange', 'mango', 'pear', 'cherry', 'orange', 'mango', 'pear', 'cherry', '']"
      ]
     },
     "execution_count": 27,
     "metadata": {},
     "output_type": "execute_result"
    }
   ],
   "source": [
    "a = []\n",
    "a = fruits.copy()\n",
    "a"
   ]
  },
  {
   "cell_type": "code",
   "execution_count": 28,
   "metadata": {},
   "outputs": [
    {
     "data": {
      "text/plain": [
       "9"
      ]
     },
     "execution_count": 28,
     "metadata": {},
     "output_type": "execute_result"
    }
   ],
   "source": [
    "len(a)"
   ]
  },
  {
   "cell_type": "code",
   "execution_count": 23,
   "metadata": {},
   "outputs": [
    {
     "data": {
      "text/plain": [
       "2"
      ]
     },
     "execution_count": 23,
     "metadata": {},
     "output_type": "execute_result"
    }
   ],
   "source": [
    "num = a.count(\"cherry\")\n",
    "num"
   ]
  },
  {
   "cell_type": "code",
   "execution_count": 64,
   "metadata": {},
   "outputs": [
    {
     "data": {
      "text/plain": [
       "[1, 2, 3, 4, 5, 'a', 'b', 'c', 'd', 'e']"
      ]
     },
     "execution_count": 64,
     "metadata": {},
     "output_type": "execute_result"
    }
   ],
   "source": [
    "a = [1,2,3,4,5]\n",
    "b = [\"a\",\"b\",\"c\",\"d\",\"e\"]\n",
    "\n",
    "\n",
    "a.extend(b)\n",
    "a"
   ]
  },
  {
   "cell_type": "code",
   "execution_count": 65,
   "metadata": {},
   "outputs": [
    {
     "data": {
      "text/plain": [
       "[1, 2, 3, 4, 5, ['a', 'b', 'c', 'd', 'e']]"
      ]
     },
     "execution_count": 65,
     "metadata": {},
     "output_type": "execute_result"
    }
   ],
   "source": [
    "a = [1,2,3,4,5]\n",
    "b = [\"a\",\"b\",\"c\",\"d\",\"e\"]\n",
    "\n",
    "\n",
    "a.append(b)\n",
    "\n",
    "a"
   ]
  },
  {
   "cell_type": "code",
   "execution_count": 41,
   "metadata": {},
   "outputs": [
    {
     "name": "stdout",
     "output_type": "stream",
     "text": [
      "[[1, 2], 1, 3, 5, 7, 'Ruddy', 9]\n"
     ]
    }
   ],
   "source": [
    "z = [1,3,5,7,9]\n",
    "y = [1,2]\n",
    "\n",
    "z.insert(0, y)\n",
    "z.insert(-1,\"Ruddy\")\n",
    "\n",
    "print(z)"
   ]
  },
  {
   "cell_type": "code",
   "execution_count": 50,
   "metadata": {},
   "outputs": [
    {
     "name": "stdout",
     "output_type": "stream",
     "text": [
      "<class 'str'>\n"
     ]
    },
    {
     "ename": "AttributeError",
     "evalue": "'str' object has no attribute 'extend'",
     "output_type": "error",
     "traceback": [
      "\u001b[1;31m---------------------------------------------------------------------\u001b[0m",
      "\u001b[1;31mAttributeError\u001b[0m                      Traceback (most recent call last)",
      "\u001b[1;32m<ipython-input-50-08e3a2319633>\u001b[0m in \u001b[0;36m<module>\u001b[1;34m()\u001b[0m\n\u001b[0;32m      8\u001b[0m \u001b[0mprint\u001b[0m\u001b[1;33m(\u001b[0m\u001b[0mtype\u001b[0m\u001b[1;33m(\u001b[0m\u001b[0mg\u001b[0m\u001b[1;33m[\u001b[0m\u001b[1;36m2\u001b[0m\u001b[1;33m]\u001b[0m\u001b[1;33m)\u001b[0m\u001b[1;33m)\u001b[0m\u001b[1;33m\u001b[0m\u001b[0m\n\u001b[0;32m      9\u001b[0m \u001b[1;33m\u001b[0m\u001b[0m\n\u001b[1;32m---> 10\u001b[1;33m \u001b[0mg\u001b[0m\u001b[1;33m[\u001b[0m\u001b[1;36m2\u001b[0m\u001b[1;33m]\u001b[0m\u001b[1;33m.\u001b[0m\u001b[0mextend\u001b[0m\u001b[1;33m(\u001b[0m\u001b[1;33m[\u001b[0m\u001b[0mj\u001b[0m\u001b[1;33m]\u001b[0m\u001b[1;33m)\u001b[0m\u001b[1;33m\u001b[0m\u001b[0m\n\u001b[0m",
      "\u001b[1;31mAttributeError\u001b[0m: 'str' object has no attribute 'extend'"
     ]
    }
   ],
   "source": [
    "g = [\"bee\", \"bird\", \"cat\", \"bat\"]\n",
    "\n",
    "num = g.index(\"bee\")\n",
    "g.insert(num, \"Sarpong\")\n",
    "\n",
    "j = [\"minions\", \"bear\"]\n",
    "\n",
    "print(type(g[2]))\n",
    "\n",
    "g[2].extend([j])\n"
   ]
  },
  {
   "cell_type": "code",
   "execution_count": 62,
   "metadata": {},
   "outputs": [
    {
     "name": "stdout",
     "output_type": "stream",
     "text": [
      "[[1, 2, 3], [4, 5, 6]]\n"
     ]
    },
    {
     "data": {
      "text/plain": [
       "[[1, 2, 3, 'S', 'a', 'r', 'p', 'o', 'n', 'g'], [4, 5, 6]]"
      ]
     },
     "execution_count": 62,
     "metadata": {},
     "output_type": "execute_result"
    }
   ],
   "source": [
    "a = [1,2,3]\n",
    "b = [4,5,6]\n",
    "c = [a,b]\n",
    "\n",
    "#c[0].append(\"Sarpong\")\n",
    "\n",
    "print(c)\n",
    "c[0].extend(\"Sarpong\")\n",
    "c"
   ]
  },
  {
   "cell_type": "code",
   "execution_count": 57,
   "metadata": {},
   "outputs": [
    {
     "data": {
      "text/plain": [
       "[[1, 2, 3, 'S', 'a', 'r', 'p', 'o', 'n', 'g']]"
      ]
     },
     "execution_count": 57,
     "metadata": {},
     "output_type": "execute_result"
    }
   ],
   "source": [
    "c.pop()\n",
    "c"
   ]
  },
  {
   "cell_type": "code",
   "execution_count": 76,
   "metadata": {},
   "outputs": [
    {
     "data": {
      "text/plain": [
       "['bee', 'bird', 'cat', 'bat', 'bee']"
      ]
     },
     "execution_count": 76,
     "metadata": {},
     "output_type": "execute_result"
    }
   ],
   "source": [
    "g = [\"bee\", \"bird\", \"cat\", \"bat\", \"bee\", \"bee\"]\n",
    "\n",
    "g.pop(-1) # index\n",
    "g"
   ]
  },
  {
   "cell_type": "code",
   "execution_count": 75,
   "metadata": {},
   "outputs": [
    {
     "data": {
      "text/plain": [
       "['bird', 'cat', 'bat', 'bee', 'bee']"
      ]
     },
     "execution_count": 75,
     "metadata": {},
     "output_type": "execute_result"
    }
   ],
   "source": [
    "g = [\"bee\", \"bird\", \"cat\", \"bat\", \"bee\", \"bee\"]\n",
    "\n",
    "g.remove(\"bee\") # value\n",
    "g"
   ]
  },
  {
   "cell_type": "code",
   "execution_count": 79,
   "metadata": {},
   "outputs": [
    {
     "data": {
      "text/plain": [
       "[7, 6, 5, 4, 3, 2, 1]"
      ]
     },
     "execution_count": 79,
     "metadata": {},
     "output_type": "execute_result"
    }
   ],
   "source": [
    "a = [1,2,3,4,5,6,7]\n",
    "\n",
    "a.sort(reverse=True)\n",
    "a"
   ]
  },
  {
   "cell_type": "code",
   "execution_count": 78,
   "metadata": {},
   "outputs": [
    {
     "data": {
      "text/plain": [
       "[7, 6, 5, 4, 3, 2, 1]"
      ]
     },
     "execution_count": 78,
     "metadata": {},
     "output_type": "execute_result"
    }
   ],
   "source": [
    "a = [1,2,3,4,5,6,7]\n",
    "\n",
    "a.reverse()\n",
    "a"
   ]
  },
  {
   "cell_type": "code",
   "execution_count": 89,
   "metadata": {},
   "outputs": [
    {
     "data": {
      "text/plain": [
       "['APPLE', 'APPLE']"
      ]
     },
     "execution_count": 89,
     "metadata": {},
     "output_type": "execute_result"
    }
   ],
   "source": [
    "b = [\"Apple\", \"apple\"]\n",
    "c = []\n",
    "\n",
    "for _ in b:\n",
    "    a = _.upper()\n",
    "    c.append(a)\n",
    "    \n",
    "c"
   ]
  },
  {
   "cell_type": "code",
   "execution_count": null,
   "metadata": {
    "collapsed": true
   },
   "outputs": [],
   "source": []
  }
 ],
 "metadata": {
  "kernelspec": {
   "display_name": "Python 3",
   "language": "python",
   "name": "python3"
  },
  "language_info": {
   "codemirror_mode": {
    "name": "ipython",
    "version": 3
   },
   "file_extension": ".py",
   "mimetype": "text/x-python",
   "name": "python",
   "nbconvert_exporter": "python",
   "pygments_lexer": "ipython3",
   "version": "3.6.6"
  }
 },
 "nbformat": 4,
 "nbformat_minor": 2
}
