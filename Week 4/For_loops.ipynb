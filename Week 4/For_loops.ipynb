{
 "cells": [
  {
   "cell_type": "code",
   "execution_count": 4,
   "metadata": {},
   "outputs": [
    {
     "name": "stdout",
     "output_type": "stream",
     "text": [
      "1\n",
      "2\n",
      "3\n",
      "4\n",
      "5\n",
      "67\n",
      "8\n",
      "9\n",
      "0\n"
     ]
    }
   ],
   "source": [
    "# list\n",
    "num = [1,2,3,4,5,67,8,9,0]\n",
    "\n",
    "for x in num:\n",
    "    print(x)"
   ]
  },
  {
   "cell_type": "code",
   "execution_count": 5,
   "metadata": {},
   "outputs": [
    {
     "name": "stdout",
     "output_type": "stream",
     "text": [
      "1\n",
      "2\n",
      "3\n",
      "4\n",
      "5\n",
      "67\n",
      "8\n",
      "9\n",
      "0\n"
     ]
    }
   ],
   "source": [
    "# tuple\n",
    "num = (1,2,3,4,5,67,8,9,0)\n",
    "\n",
    "for x in num:\n",
    "    print(x)"
   ]
  },
  {
   "cell_type": "code",
   "execution_count": 6,
   "metadata": {},
   "outputs": [
    {
     "name": "stdout",
     "output_type": "stream",
     "text": [
      "0\n",
      "1\n",
      "2\n",
      "3\n",
      "4\n",
      "5\n",
      "67\n",
      "8\n",
      "9\n"
     ]
    }
   ],
   "source": [
    "# sets\n",
    "num = {1,2,3,4,5,67,8,9,0}\n",
    "\n",
    "for x in num:\n",
    "    print(x)"
   ]
  },
  {
   "cell_type": "code",
   "execution_count": 9,
   "metadata": {},
   "outputs": [
    {
     "name": "stdout",
     "output_type": "stream",
     "text": [
      "1\n",
      "2\n"
     ]
    }
   ],
   "source": [
    "# dictionary\n",
    "num = {\n",
    "    1: \"haha\",\n",
    "    2: \"hihi\"\n",
    "}\n",
    "\n",
    "for x in num:\n",
    "    print(x)"
   ]
  },
  {
   "cell_type": "code",
   "execution_count": 10,
   "metadata": {},
   "outputs": [
    {
     "name": "stdout",
     "output_type": "stream",
     "text": [
      "I\n",
      " \n",
      "h\n",
      "a\n",
      "v\n",
      "e\n",
      " \n",
      "a\n",
      " \n",
      "d\n",
      "r\n",
      "e\n",
      "a\n",
      "m\n",
      "!\n"
     ]
    }
   ],
   "source": [
    "# strings\n",
    "\n",
    "a = \"I have a dream!\"\n",
    "\n",
    "for letter in a:\n",
    "    print(letter)"
   ]
  },
  {
   "cell_type": "code",
   "execution_count": 14,
   "metadata": {},
   "outputs": [
    {
     "data": {
      "text/plain": [
       "1"
      ]
     },
     "execution_count": 14,
     "metadata": {},
     "output_type": "execute_result"
    }
   ],
   "source": [
    "13 % 2"
   ]
  },
  {
   "cell_type": "code",
   "execution_count": 19,
   "metadata": {},
   "outputs": [
    {
     "name": "stdout",
     "output_type": "stream",
     "text": [
      "1 is an odd number\n",
      "2 is an even number\n",
      "3 is an odd number\n",
      "4 is an even number\n",
      "5 is an odd number\n",
      "6 is an even number\n",
      "7 is an odd number\n",
      "8 is an even number\n",
      "9 is an odd number\n",
      "10 is an even number\n",
      "11 is an odd number\n",
      "12 is an even number\n",
      "13 is an odd number\n",
      "14 is an even number\n",
      "15 is an odd number\n"
     ]
    }
   ],
   "source": [
    "# Even and Odd\n",
    "\n",
    "integers = [1,2,3,4,5,6,7,8,9,10,11,12,13,14,15]\n",
    "\n",
    "for item in integers:\n",
    "    if item % 2 == 0:\n",
    "        print(item, \"is an even number\")\n",
    "    else:\n",
    "        print(item, \"is an odd number\")"
   ]
  },
  {
   "cell_type": "code",
   "execution_count": 8,
   "metadata": {},
   "outputs": [
    {
     "name": "stdout",
     "output_type": "stream",
     "text": [
      "1 You need to be 2 or greater!\n",
      "2 is not a prime number!\n",
      "3 is not a prime number!\n",
      "4 is not a prime number!\n",
      "5 is not a prime number!\n",
      "6 is not a prime number!\n",
      "7 is not a prime number!\n",
      "8 is not a prime number!\n",
      "9 is not a prime number!\n",
      "10 is not a prime number!\n",
      "11 is not a prime number!\n",
      "12 is not a prime number!\n",
      "13 is not a prime number!\n",
      "14 is not a prime number!\n",
      "15 is not a prime number!\n"
     ]
    }
   ],
   "source": [
    "# Prime numbers\n",
    "\n",
    "integers = [1,2,3,4,5,6,7,8,9,10,11,12,13,14,15]\n",
    "\n",
    "\n",
    "for item in integers:\n",
    "    if item > 1:\n",
    "        for i in range(2, integers[-1]):\n",
    "            if (item % i) == 0:\n",
    "                print(item,\"is not a prime number!\")\n",
    "                break\n",
    "        else:\n",
    "            print(item,\"is a prime number!\")\n",
    "    else:\n",
    "        print(item, \"You need to be 2 or greater!\")\n",
    "    \n",
    "    "
   ]
  },
  {
   "cell_type": "code",
   "execution_count": 5,
   "metadata": {},
   "outputs": [
    {
     "name": "stdout",
     "output_type": "stream",
     "text": [
      "1 its a prime number\n",
      "1  its an odd number\n",
      "2 its a prime number\n",
      "2  its an even number\n",
      "3 its a prime number\n",
      "3  its an odd number\n",
      "4 its not a prime number\n",
      "4  its an even number\n",
      "5 its a prime number\n",
      "5  its an odd number\n",
      "6 its not a prime number\n",
      "6  its an even number\n",
      "7 its a prime number\n",
      "7  its an odd number\n",
      "8 its not a prime number\n",
      "8  its an even number\n",
      "9 its not a prime number\n",
      "9  its an odd number\n",
      "10 its not a prime number\n",
      "10  its an even number\n",
      "11 its a prime number\n",
      "11  its an odd number\n",
      "12 its not a prime number\n",
      "12  its an even number\n",
      "13 its a prime number\n",
      "13  its an odd number\n",
      "14 its not a prime number\n",
      "14  its an even number\n",
      "15 its not a prime number\n",
      "15  its an odd number\n"
     ]
    }
   ],
   "source": [
    "intergers = [1, 2, 3, 4, 5, 6, 7, 8, 9, 10, 11, 12, 13, 14, 15]\n",
    "\n",
    "for i in intergers:\n",
    "    Pachigo = False\n",
    "    if i > 1:\n",
    "        for j in range (2, i):\n",
    "            if i%j==0:\n",
    "                Pachigo = True\n",
    "                \n",
    "    else:\n",
    "        ########\n",
    "    if Pachigo:\n",
    "        print (i, \"its not a prime number\")\n",
    "    else:\n",
    "        print (i, \"its a prime number\")\n",
    "\n",
    "    if i%2 == 0:\n",
    "        print (i, \" its an even number\")\n",
    "    else:\n",
    "        print (i, \" its an odd number\")"
   ]
  },
  {
   "cell_type": "code",
   "execution_count": null,
   "metadata": {
    "collapsed": true
   },
   "outputs": [],
   "source": []
  },
  {
   "cell_type": "code",
   "execution_count": null,
   "metadata": {
    "collapsed": true
   },
   "outputs": [],
   "source": []
  },
  {
   "cell_type": "code",
   "execution_count": 28,
   "metadata": {},
   "outputs": [
    {
     "name": "stdout",
     "output_type": "stream",
     "text": [
      "1 be greater than one\n",
      "2 Prime and even\n",
      "3 odd\n",
      "4 Even\n",
      "5 odd - prime\n",
      "6 Even\n",
      "7 odd - prime\n",
      "8 Even\n",
      "9 odd\n",
      "10 Even\n",
      "11 odd - prime\n",
      "12 Even\n",
      "13 odd - prime\n",
      "14 Even\n",
      "15 odd\n"
     ]
    }
   ],
   "source": [
    "integers = [1, 2, 3, 4, 5, 6, 7, 8, 9, 10, 11, 12, 13, 14, 15]\n",
    "\n",
    "for a in integers:\n",
    "    if a < 2:\n",
    "        print(a, \"be greater than one\")\n",
    "\n",
    "    elif a == 2:\n",
    "        print(a, \"Prime and even\")\n",
    "\n",
    "    elif a%2 == 0:\n",
    "        print(a, \"Even\")\n",
    "\n",
    "    else:\n",
    "        if (a%3) == 0:\n",
    "            print(a, \"odd\")\n",
    "        else:\n",
    "            print(a, \"odd - prime\")"
   ]
  },
  {
   "cell_type": "code",
   "execution_count": 26,
   "metadata": {},
   "outputs": [
    {
     "name": "stdout",
     "output_type": "stream",
     "text": [
      "3 is a prime number\n",
      "5 is a prime number\n",
      "7 is a prime number\n",
      "11 is a prime number\n",
      "13 is a prime number\n"
     ]
    }
   ],
   "source": [
    "integers = [1, 2, 3, 4, 5, 6, 7, 8, 9, 10, 11, 12, 13, 14, 15]\n",
    "\n",
    "for i in range(2,integers[-1]):\n",
    "    for j in range(2,i):\n",
    "        if (i%j==0):\n",
    "            break\n",
    "        else:\n",
    "            if (i==j+1):\n",
    "                print(i, \"is a prime number\")"
   ]
  },
  {
   "cell_type": "code",
   "execution_count": 32,
   "metadata": {},
   "outputs": [
    {
     "name": "stdout",
     "output_type": "stream",
     "text": [
      "1 is a prime number\n",
      "You're greater than 1!\n",
      "2 is a prime number\n",
      "You're greater than 1!\n",
      "3 is a prime number\n",
      "You're greater than 1!\n",
      "You're greater than 1!\n",
      "5 is a prime number\n",
      "You're greater than 1!\n",
      "You're greater than 1!\n",
      "7 is a prime number\n",
      "You're greater than 1!\n",
      "You're greater than 1!\n",
      "You're greater than 1!\n",
      "You're greater than 1!\n",
      "11 is a prime number\n",
      "You're greater than 1!\n",
      "You're greater than 1!\n",
      "13 is a prime number\n",
      "You're greater than 1!\n",
      "You're greater than 1!\n"
     ]
    }
   ],
   "source": [
    "#Prime Numbers\n",
    "integers = [1,2,3,4,5,6,7,8,9,10,11,12,13,14,15]\n",
    "\n",
    "for i in integers:\n",
    "    if i>1:\n",
    "        print(\"You're greater than 1!\")\n",
    "    for j in range(2, i):\n",
    "        if(i % j==0 in range(i)):\n",
    "          #print(i, \"is an even number\")\n",
    "          break\n",
    "    else:\n",
    "        print(i, \"is a prime number\")"
   ]
  },
  {
   "cell_type": "code",
   "execution_count": null,
   "metadata": {
    "collapsed": true
   },
   "outputs": [],
   "source": []
  }
 ],
 "metadata": {
  "kernelspec": {
   "display_name": "Python 3",
   "language": "python",
   "name": "python3"
  },
  "language_info": {
   "codemirror_mode": {
    "name": "ipython",
    "version": 3
   },
   "file_extension": ".py",
   "mimetype": "text/x-python",
   "name": "python",
   "nbconvert_exporter": "python",
   "pygments_lexer": "ipython3",
   "version": "3.6.6"
  }
 },
 "nbformat": 4,
 "nbformat_minor": 2
}
