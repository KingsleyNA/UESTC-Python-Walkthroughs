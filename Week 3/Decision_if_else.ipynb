{
 "cells": [
  {
   "cell_type": "code",
   "execution_count": 1,
   "metadata": {
    "collapsed": true
   },
   "outputs": [],
   "source": [
    "a = 5\n",
    "b = 10"
   ]
  },
  {
   "cell_type": "code",
   "execution_count": 8,
   "metadata": {},
   "outputs": [
    {
     "data": {
      "text/plain": [
       "False"
      ]
     },
     "execution_count": 8,
     "metadata": {},
     "output_type": "execute_result"
    }
   ],
   "source": [
    "a == b\n",
    "a != b\n",
    "a < b\n",
    "a > b\n",
    "a <= b\n",
    "a >= b"
   ]
  },
  {
   "cell_type": "code",
   "execution_count": 35,
   "metadata": {},
   "outputs": [
    {
     "name": "stdout",
     "output_type": "stream",
     "text": [
      "How old are you: 18\n",
      "Yaay!! You can party tonight!!!\n",
      "Yaay!! You can party tonight!!!\n",
      "Yaay!! You can party tonight!!!\n",
      "Yaay!! You can party tonight!!!\n",
      "Yaay!! You can party tonight!!!\n",
      "Yaay!! You can party tonight!!!\n"
     ]
    }
   ],
   "source": [
    "legal_mark = 18\n",
    "\n",
    "age = input(\"How old are you: \")\n",
    "age = int(age)\n",
    "\n",
    "if age >= legal_mark and age < 200:\n",
    "    print(\"Yaay!! You can party tonight!!!\")\n",
    "    print(\"Yaay!! You can party tonight!!!\")\n",
    "    print(\"Yaay!! You can party tonight!!!\")\n",
    "    print(\"Yaay!! You can party tonight!!!\")\n",
    "    print(\"Yaay!! You can party tonight!!!\")\n",
    "    print(\"Yaay!! You can party tonight!!!\")\n",
    "\n",
    "elif age > 200:\n",
    "    print(\"You are a ghost!\")\n",
    "\n",
    "else:\n",
    "    print(\"Go back home!!!\")"
   ]
  },
  {
   "cell_type": "code",
   "execution_count": 38,
   "metadata": {},
   "outputs": [
    {
     "name": "stdout",
     "output_type": "stream",
     "text": [
      "the numbers are equal\n",
      "the numbers are equal\n",
      "the numbers are equal\n"
     ]
    }
   ],
   "source": [
    "x = 4\n",
    "y = 4 \n",
    "\n",
    "if x == y: \n",
    "    print(\"the numbers are equal\") \n",
    "    print(\"the numbers are equal\") \n",
    "    print(\"the numbers are equal\")\n",
    "else: \n",
    "    print(\"they are not equal\")"
   ]
  },
  {
   "cell_type": "code",
   "execution_count": 24,
   "metadata": {},
   "outputs": [
    {
     "name": "stdout",
     "output_type": "stream",
     "text": [
      "they are not equal\n"
     ]
    }
   ],
   "source": [
    "x = 40\n",
    "y = 4\n",
    "\n",
    "print(\"the numbers are equal\") if x == y else print(\"they are not equal\")"
   ]
  },
  {
   "cell_type": "code",
   "execution_count": 28,
   "metadata": {},
   "outputs": [
    {
     "name": "stdout",
     "output_type": "stream",
     "text": [
      "I am sure they are not equal\n"
     ]
    }
   ],
   "source": [
    "k = 20\n",
    "m = -20\n",
    "\n",
    "print(\"the numbers are equal\") if k == m else print(\"they are not really equal\") if k < m else print(\"I am sure they are not equal\")"
   ]
  },
  {
   "cell_type": "code",
   "execution_count": 34,
   "metadata": {},
   "outputs": [
    {
     "name": "stdout",
     "output_type": "stream",
     "text": [
      "they are not the same\n"
     ]
    }
   ],
   "source": [
    "a = \"good\"\n",
    "b = \"bad\"\n",
    "\n",
    "if a == b:\n",
    "    pass\n",
    "else:\n",
    "    print(\"they are not the same\")"
   ]
  },
  {
   "cell_type": "code",
   "execution_count": 4,
   "metadata": {},
   "outputs": [
    {
     "name": "stdout",
     "output_type": "stream",
     "text": [
      "Please enter a number: 1000000000\n",
      "You are a god!\n"
     ]
    }
   ],
   "source": [
    "num = int(input(\"Please enter a number: \"))\n",
    "\n",
    "if num <= 0:\n",
    "    print(\"it's negative!\")\n",
    "elif 0 < num <= 100:\n",
    "    print(\"You are a human!\")\n",
    "elif 100 < num <= 1000:\n",
    "    print(\"You are a superhuman\")\n",
    "else:\n",
    "    print(\"You are a god!\")"
   ]
  },
  {
   "cell_type": "code",
   "execution_count": 18,
   "metadata": {},
   "outputs": [
    {
     "name": "stdout",
     "output_type": "stream",
     "text": [
      "Please enter a number: 60\n",
      "7\n"
     ]
    }
   ],
   "source": [
    "num = int(input(\"Please enter a number: \"))\n",
    "\n",
    "print(((num - 1) // 10) + 2 )"
   ]
  },
  {
   "cell_type": "code",
   "execution_count": null,
   "metadata": {
    "collapsed": true
   },
   "outputs": [],
   "source": [
    "1,2,3,4,5,6,7,8 ........ 10000\n",
    "\n",
    "3\n",
    "1 + 2 + 3 = 6\n",
    "\n",
    "5\n",
    "1 + 2 + 3 + 4 + 5 = 15"
   ]
  },
  {
   "cell_type": "code",
   "execution_count": 4,
   "metadata": {},
   "outputs": [
    {
     "name": "stdout",
     "output_type": "stream",
     "text": [
      "500000500000\n"
     ]
    }
   ],
   "source": [
    "a = 1000000\n",
    "\n",
    "ans = (a * (a + 1))/2\n",
    "print(int(ans))"
   ]
  },
  {
   "cell_type": "code",
   "execution_count": 26,
   "metadata": {},
   "outputs": [
    {
     "name": "stdout",
     "output_type": "stream",
     "text": [
      "15\n"
     ]
    }
   ],
   "source": [
    "a = 6\n",
    "ans = []\n",
    "\n",
    "for i in range(1,6):\n",
    "    ans.append(i)\n",
    "    \n",
    "print(sum(ans))"
   ]
  },
  {
   "cell_type": "code",
   "execution_count": 30,
   "metadata": {},
   "outputs": [
    {
     "data": {
      "text/plain": [
       "15"
      ]
     },
     "execution_count": 30,
     "metadata": {},
     "output_type": "execute_result"
    }
   ],
   "source": [
    "# list comprehension\n",
    "\n",
    "a = [i for i in range(1,6)]\n",
    "sum(a)"
   ]
  },
  {
   "cell_type": "code",
   "execution_count": null,
   "metadata": {
    "collapsed": true
   },
   "outputs": [],
   "source": []
  }
 ],
 "metadata": {
  "kernelspec": {
   "display_name": "Python 3",
   "language": "python",
   "name": "python3"
  },
  "language_info": {
   "codemirror_mode": {
    "name": "ipython",
    "version": 3
   },
   "file_extension": ".py",
   "mimetype": "text/x-python",
   "name": "python",
   "nbconvert_exporter": "python",
   "pygments_lexer": "ipython3",
   "version": "3.6.6"
  }
 },
 "nbformat": 4,
 "nbformat_minor": 2
}
