{
 "cells": [
  {
   "cell_type": "code",
   "execution_count": 1,
   "metadata": {
    "collapsed": true
   },
   "outputs": [],
   "source": [
    "# Objects\n",
    "#- cars\n",
    "#- people\n",
    "#- flowers\n",
    "#- birds"
   ]
  },
  {
   "cell_type": "code",
   "execution_count": 5,
   "metadata": {},
   "outputs": [],
   "source": [
    "class cars:\n",
    "    pass\n",
    "\n",
    "car1 = cars()"
   ]
  },
  {
   "cell_type": "code",
   "execution_count": 9,
   "metadata": {},
   "outputs": [
    {
     "name": "stdout",
     "output_type": "stream",
     "text": [
      "Roses have petals\n",
      "Roses have sepals\n",
      "Roses have stalks\n",
      "\n",
      "flamboyants have petals\n",
      "flamboyants have sepals\n",
      "flamboyants have stalks\n"
     ]
    }
   ],
   "source": [
    "class flowers:\n",
    "    prop1 = \"petals\"\n",
    "    prop2 = \"sepals\"\n",
    "    prop3 = \"stalks\"\n",
    "    \n",
    "rose = flowers()\n",
    "flamboyant = flowers()\n",
    "\n",
    "print(\"Roses have\", rose.prop1)\n",
    "print(\"Roses have\", rose.prop2)\n",
    "print(\"Roses have\", rose.prop3)\n",
    "\n",
    "print()\n",
    "\n",
    "print(\"flamboyants have\", flamboyant.prop1)\n",
    "print(\"flamboyants have\", flamboyant.prop2)\n",
    "print(\"flamboyants have\", flamboyant.prop3)"
   ]
  },
  {
   "cell_type": "code",
   "execution_count": 11,
   "metadata": {},
   "outputs": [
    {
     "name": "stdout",
     "output_type": "stream",
     "text": [
      "John Buck\n",
      "Airplane\n"
     ]
    }
   ],
   "source": [
    "class Person:\n",
    "    def __init__(self, firstname, lastname):\n",
    "        self.firstname = firstname\n",
    "        self.lastname = lastname\n",
    "    \n",
    "person1 = Person(\"John Buck\", \"Airplane\")\n",
    "\n",
    "print(person1.firstname)\n",
    "print(person1.lastname)"
   ]
  },
  {
   "cell_type": "code",
   "execution_count": 23,
   "metadata": {},
   "outputs": [
    {
     "name": "stdout",
     "output_type": "stream",
     "text": [
      "jojo\n",
      "Nike, just do it!\n"
     ]
    }
   ],
   "source": [
    "class Person: \n",
    "    def __init__(self, a, b):\n",
    "        self.firstname = a\n",
    "        self.lastname = b\n",
    "        \n",
    "    def slogan(self):\n",
    "        print(self.firstname)\n",
    "        print(\"Nike, just do it!\")\n",
    "        \n",
    "mike = Person(\"jojo\", \"dojo\")\n",
    "\n",
    "#mike.firstname, mike.lastname\n",
    "mike.slogan()"
   ]
  },
  {
   "cell_type": "code",
   "execution_count": 48,
   "metadata": {},
   "outputs": [
    {
     "name": "stdout",
     "output_type": "stream",
     "text": [
      "1\n",
      "2\n",
      "10\n",
      "4\n",
      "1\n",
      "2\n",
      "1000\n",
      "this animal can fly\n",
      "None\n"
     ]
    }
   ],
   "source": [
    "class Animal:\n",
    "    head = 1\n",
    "    body = 2\n",
    "        \n",
    "    def doit(self):\n",
    "        print(\"this animal can run\")\n",
    "        print(\"this animal can eat\")\n",
    "        \n",
    "class WildAnimal(Animal):\n",
    "    def __init__(self):\n",
    "        #super().__init__()\n",
    "        self.toes = 1000\n",
    "        self.arms = 40\n",
    "        self.knees = 20\n",
    "        \n",
    "    def Domdoit(self):\n",
    "        print(\"this animal can fly\")\n",
    "\n",
    "        \n",
    "class DomAnimal(Animal):\n",
    "    def __init__(self):\n",
    "        #super().__init__()\n",
    "        self.toes = 10\n",
    "        self.arms = 4\n",
    "        \n",
    "    def Domdoit(self):\n",
    "        print(\"this animal can sleep\")\n",
    "\n",
    "        \n",
    "        \n",
    "dog = DomAnimal()\n",
    "\n",
    "print(dog.head)\n",
    "print(dog.body)\n",
    "print(dog.toes)\n",
    "print(dog.arms)\n",
    "\n",
    "tiger = WildAnimal()\n",
    "print(tiger.head)\n",
    "print(tiger.body)\n",
    "print(tiger.toes)\n",
    "print(tiger.Domdoit())"
   ]
  },
  {
   "cell_type": "code",
   "execution_count": null,
   "metadata": {
    "collapsed": true
   },
   "outputs": [],
   "source": [
    "# Inheritance\n",
    "# Encapsulation\n",
    "# Polymorphism"
   ]
  },
  {
   "cell_type": "code",
   "execution_count": null,
   "metadata": {
    "collapsed": true
   },
   "outputs": [],
   "source": []
  },
  {
   "cell_type": "code",
   "execution_count": null,
   "metadata": {
    "collapsed": true
   },
   "outputs": [],
   "source": []
  },
  {
   "cell_type": "code",
   "execution_count": null,
   "metadata": {
    "collapsed": true
   },
   "outputs": [],
   "source": []
  }
 ],
 "metadata": {
  "kernelspec": {
   "display_name": "Python 3",
   "language": "python",
   "name": "python3"
  },
  "language_info": {
   "codemirror_mode": {
    "name": "ipython",
    "version": 3
   },
   "file_extension": ".py",
   "mimetype": "text/x-python",
   "name": "python",
   "nbconvert_exporter": "python",
   "pygments_lexer": "ipython3",
   "version": "3.6.6"
  }
 },
 "nbformat": 4,
 "nbformat_minor": 2
}
