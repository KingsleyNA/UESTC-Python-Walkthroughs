{
 "cells": [
  {
   "cell_type": "code",
   "execution_count": 2,
   "metadata": {},
   "outputs": [
    {
     "name": "stdout",
     "output_type": "stream",
     "text": [
      "what is your name? Juliana\n",
      "Please enter your age? 606\n",
      "Juliana is 606 years old.\n"
     ]
    }
   ],
   "source": [
    "# Create a function that can accept two arguments name and age \n",
    "# and print the name and age values\n",
    "\n",
    "def myage(name,age):\n",
    "    output = str(name) + \" is \" + str(age) + \" years old.\"\n",
    "    return output\n",
    "\n",
    "name = input(\"what is your name? \")\n",
    "age = input(\"Please enter your age? \")\n",
    "\n",
    "out = myage(name,age)\n",
    "print(out)"
   ]
  },
  {
   "cell_type": "code",
   "execution_count": null,
   "metadata": {
    "collapsed": true
   },
   "outputs": [],
   "source": []
  },
  {
   "cell_type": "code",
   "execution_count": null,
   "metadata": {
    "collapsed": true
   },
   "outputs": [],
   "source": []
  },
  {
   "cell_type": "code",
   "execution_count": 5,
   "metadata": {},
   "outputs": [
    {
     "name": "stdout",
     "output_type": "stream",
     "text": [
      "[7, -1, 12, 0.75]\n"
     ]
    }
   ],
   "source": [
    "# Write a function calculation() such that it can accept two variables \n",
    "# and calculate the addition, subtraction, multiplication and division of them. And also it must return all addition, subtraction, multiplication and division in a single return call.\n",
    "\n",
    "def calculation(x,y):\n",
    "    a = x + y\n",
    "    b = x - y\n",
    "    c = x * y\n",
    "    d = x / y\n",
    "    return a,b,c,d\n",
    "\n",
    "g, h = 3, 4\n",
    "\n",
    "out = calculation(g,h)\n",
    "print(list(out))"
   ]
  },
  {
   "cell_type": "code",
   "execution_count": 15,
   "metadata": {},
   "outputs": [
    {
     "name": "stdout",
     "output_type": "stream",
     "text": [
      "[41, 43, 45, 47, 49, 51, 53, 55, 57, 59, 61, 63, 65, 67, 69, 71, 73, 75, 77, 79, 81, 83, 85, 87, 89, 91, 93, 95, 97, 99, 101, 103, 105, 107, 109, 111, 113, 115, 117, 119, 121, 123, 125, 127, 129, 131, 133, 135, 137, 139]\n"
     ]
    }
   ],
   "source": [
    "# Generate a Python list of all theodd numbers between 40 to 140\n",
    "\n",
    "\n",
    "#print([i for i in range(120, 40, -10)])\n",
    "\n",
    "print(list(range(41,140,2)))"
   ]
  },
  {
   "cell_type": "code",
   "execution_count": null,
   "metadata": {
    "collapsed": true
   },
   "outputs": [],
   "source": []
  },
  {
   "cell_type": "code",
   "execution_count": null,
   "metadata": {
    "collapsed": true
   },
   "outputs": [],
   "source": []
  }
 ],
 "metadata": {
  "kernelspec": {
   "display_name": "Python 3",
   "language": "python",
   "name": "python3"
  },
  "language_info": {
   "codemirror_mode": {
    "name": "ipython",
    "version": 3
   },
   "file_extension": ".py",
   "mimetype": "text/x-python",
   "name": "python",
   "nbconvert_exporter": "python",
   "pygments_lexer": "ipython3",
   "version": "3.6.6"
  }
 },
 "nbformat": 4,
 "nbformat_minor": 2
}
