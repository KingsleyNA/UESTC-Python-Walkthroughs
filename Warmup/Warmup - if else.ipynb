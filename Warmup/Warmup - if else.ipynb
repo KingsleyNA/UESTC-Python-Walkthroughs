{
 "cells": [
  {
   "cell_type": "code",
   "execution_count": null,
   "metadata": {},
   "outputs": [],
   "source": [
    "# Given an number, n, perform the following conditional actions:\n",
    "\n",
    "# If n is odd, print Weird\n",
    "# If n is even and in the inclusive range of 2 to 5, print Not Weird\n",
    "# If n is even and in the inclusive range of 6 to 20, print Weird\n",
    "# If n is even and greater than 20, print Not Weird\n",
    "\n",
    "\n",
    "n = float(input(\"Please enter a number: \"))\n",
    "\n",
    "if (n%2) != 0:\n",
    "    print(n,\"is Weird\")\n",
    "\n",
    "elif (n%2) == 0:\n",
    "    if n>=2 and n<=5:\n",
    "        print(n,\"is not Weird\")\n",
    "    elif n>=6 and n<=20: \n",
    "        print(n,\"is Weird\")\n",
    "    elif n>20: \n",
    "        print(n,\"is not Weird\")\n",
    "    else:\n",
    "        print(\"Something is wrong\")\n",
    "else:\n",
    "        print(\"Something is wrong\")"
   ]
  },
  {
   "cell_type": "code",
   "execution_count": null,
   "metadata": {
    "collapsed": true
   },
   "outputs": [],
   "source": []
  },
  {
   "cell_type": "code",
   "execution_count": null,
   "metadata": {
    "collapsed": true
   },
   "outputs": [],
   "source": []
  },
  {
   "cell_type": "code",
   "execution_count": null,
   "metadata": {
    "collapsed": true
   },
   "outputs": [],
   "source": []
  }
 ],
 "metadata": {
  "kernelspec": {
   "display_name": "Python 3",
   "language": "python",
   "name": "python3"
  },
  "language_info": {
   "codemirror_mode": {
    "name": "ipython",
    "version": 3
   },
   "file_extension": ".py",
   "mimetype": "text/x-python",
   "name": "python",
   "nbconvert_exporter": "python",
   "pygments_lexer": "ipython3",
   "version": "3.6.6"
  }
 },
 "nbformat": 4,
 "nbformat_minor": 2
}
