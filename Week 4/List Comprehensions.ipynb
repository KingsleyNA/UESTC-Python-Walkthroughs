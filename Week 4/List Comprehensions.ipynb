{
 "cells": [
  {
   "cell_type": "code",
   "execution_count": 1,
   "metadata": {},
   "outputs": [
    {
     "name": "stdout",
     "output_type": "stream",
     "text": [
      "<class 'list'>\n"
     ]
    }
   ],
   "source": [
    "haha = []\n",
    "print(type(haha))"
   ]
  },
  {
   "cell_type": "code",
   "execution_count": 3,
   "metadata": {},
   "outputs": [
    {
     "name": "stdout",
     "output_type": "stream",
     "text": [
      "[1, 4, 9, 16, 25, 36, 49, 64, 81, 0]\n"
     ]
    }
   ],
   "source": [
    "# Usual way\n",
    "\n",
    "num = [1,2,3,4,5,6,7,8,9,0]\n",
    "\n",
    "num_sq = []\n",
    "for i in num:\n",
    "    num_sq.append(i*i)\n",
    "    \n",
    "print(num_sq)"
   ]
  },
  {
   "cell_type": "code",
   "execution_count": 4,
   "metadata": {},
   "outputs": [
    {
     "name": "stdout",
     "output_type": "stream",
     "text": [
      "[1, 4, 9, 16, 25, 36, 49, 64, 81, 0]\n"
     ]
    }
   ],
   "source": [
    "# List comprehension\n",
    "\n",
    "num = [1,2,3,4,5,6,7,8,9,0]\n",
    "\n",
    "num_sq = [i*i for i in num] # Output - Collection\n",
    "\n",
    "print(num_sq)"
   ]
  },
  {
   "cell_type": "code",
   "execution_count": null,
   "metadata": {
    "collapsed": true
   },
   "outputs": [],
   "source": []
  },
  {
   "cell_type": "code",
   "execution_count": 5,
   "metadata": {},
   "outputs": [
    {
     "name": "stdout",
     "output_type": "stream",
     "text": [
      "[0, 4, 16, 36, 64, 100, 144, 196, 256, 324]\n"
     ]
    }
   ],
   "source": [
    "even_sq = []\n",
    "\n",
    "for i in range(20):\n",
    "    if i%2 == 0:\n",
    "        even_sq.append(i*i) # Output - Collection - Condition\n",
    "        \n",
    "print(even_sq)"
   ]
  },
  {
   "cell_type": "code",
   "execution_count": 6,
   "metadata": {},
   "outputs": [
    {
     "name": "stdout",
     "output_type": "stream",
     "text": [
      "[0, 4, 16, 36, 64, 100, 144, 196, 256, 324]\n"
     ]
    }
   ],
   "source": [
    "even_sq = [i*i for i in range(20) if i%2==0]\n",
    "\n",
    "print(even_sq)"
   ]
  },
  {
   "cell_type": "code",
   "execution_count": 7,
   "metadata": {},
   "outputs": [
    {
     "name": "stdout",
     "output_type": "stream",
     "text": [
      "[0, 4, 16, 36, 64, 100, 144, 196, 256, 324]\n"
     ]
    }
   ],
   "source": [
    "even_sq = [i**2 for i in range(20) if i%2 == 0]\n",
    "print(even_sq)"
   ]
  },
  {
   "cell_type": "code",
   "execution_count": 9,
   "metadata": {},
   "outputs": [
    {
     "name": "stdout",
     "output_type": "stream",
     "text": [
      "[1331, 2197, 3375, 4913, 6859]\n"
     ]
    }
   ],
   "source": [
    "odd_sq = []\n",
    "\n",
    "for i in range(20):\n",
    "    if i > 10:\n",
    "        if i%2 != 0:\n",
    "            odd_sq.append(i*i*i)\n",
    "\n",
    "print(odd_sq)"
   ]
  },
  {
   "cell_type": "code",
   "execution_count": 14,
   "metadata": {},
   "outputs": [
    {
     "name": "stdout",
     "output_type": "stream",
     "text": [
      "[1331, 2197, 3375, 4913, 6859]\n",
      "[1331, 2197, 3375, 4913, 6859]\n"
     ]
    }
   ],
   "source": [
    "odd_cube = [i**3 for i in range(1,20) if(i%2==1) and i>10]\n",
    "print(odd_cube)\n",
    "\n",
    "odd_cube = [i**3 for i in range(1,20) if(i%2==1) if i>10]\n",
    "print(odd_cube)"
   ]
  },
  {
   "cell_type": "code",
   "execution_count": 32,
   "metadata": {},
   "outputs": [
    {
     "name": "stdout",
     "output_type": "stream",
     "text": [
      "[0, 1, 4, 27, 16, 125, 36, 343, 64, 729, 100, 1331, 144, 2197, 196, 3375, 256, 4913, 324, 6859, 400, 9261, 484, 12167, 576, 15625, 676, 19683, 784, 24389, 900, 29791, 1024, 35937, 1156, 42875, 1296, 50653, 1444, 59319, 1600, 68921, 1764, 79507, 1936, 91125, 2116, 103823, 2304, 117649]\n"
     ]
    }
   ],
   "source": [
    "v = []\n",
    "\n",
    "for i in range(50):\n",
    "    if i%2==0:\n",
    "        v.append(i*i)\n",
    "    else:\n",
    "        v.append(i*i*i)\n",
    "        \n",
    "print(v)"
   ]
  },
  {
   "cell_type": "code",
   "execution_count": 31,
   "metadata": {},
   "outputs": [
    {
     "name": "stdout",
     "output_type": "stream",
     "text": [
      "[0, 1, 4, 27, 16, 125, 36, 343, 64, 729, 100, 1331, 144, 2197, 196, 3375, 256, 4913, 324, 6859, 400, 9261, 484, 12167, 576, 15625, 676, 19683, 784, 24389, 900, 29791, 1024, 35937, 1156, 42875, 1296, 50653, 1444, 59319, 1600, 68921, 1764, 79507, 1936, 91125, 2116, 103823, 2304, 117649]\n"
     ]
    }
   ],
   "source": [
    "u = [i*i if i%2==0 else i*i*i for i in range(50)]\n",
    "print(u)"
   ]
  },
  {
   "cell_type": "code",
   "execution_count": 27,
   "metadata": {},
   "outputs": [
    {
     "name": "stdout",
     "output_type": "stream",
     "text": [
      "[0, 1, 4, 27, 16, 125, 36, 343, 64, 729, 100, 1331, 144, 2197, 196, 3375, 256, 4913, 324, 6859, 400, 9261, 484, 12167, 576, 15625, 676, 19683, 784, 24389, 900, 29791, 1024, 35937, 1156, 42875, 1296, 50653, 1444, 59319, 1600, 68921, 1764, 79507, 1936, 91125, 2116, 103823, 2304, 117649]\n"
     ]
    }
   ],
   "source": [
    "p = [ i**3 if i%2!=0 else i**2 for i in range(50) ]\n",
    "print (p)"
   ]
  },
  {
   "cell_type": "code",
   "execution_count": 37,
   "metadata": {},
   "outputs": [
    {
     "name": "stdout",
     "output_type": "stream",
     "text": [
      "[0, 0, 0, 0, 0, 1, 2, 3, 0, 2, 4, 6, 0, 3, 6, 9]\n"
     ]
    }
   ],
   "source": [
    "# nested loop\n",
    "sq = []\n",
    "\n",
    "for i in range(4):\n",
    "    for j in range(4):\n",
    "        sq.append(i*j)\n",
    "\n",
    "print(sq)"
   ]
  },
  {
   "cell_type": "code",
   "execution_count": 38,
   "metadata": {},
   "outputs": [
    {
     "name": "stdout",
     "output_type": "stream",
     "text": [
      "[0, 0, 0, 0, 0, 1, 2, 3, 0, 2, 4, 6, 0, 3, 6, 9]\n"
     ]
    }
   ],
   "source": [
    "sq = [i*j for i in range(4) for j in range(4)]\n",
    "print(sq)"
   ]
  },
  {
   "cell_type": "code",
   "execution_count": 40,
   "metadata": {},
   "outputs": [
    {
     "name": "stdout",
     "output_type": "stream",
     "text": [
      "[0, 1, 2, 3]\n"
     ]
    }
   ],
   "source": [
    "a = 0\n",
    "num = []\n",
    "\n",
    "while a < 4:\n",
    "    num.append(a)\n",
    "    a += 1\n",
    "    \n",
    "print(num)"
   ]
  },
  {
   "cell_type": "code",
   "execution_count": 43,
   "metadata": {},
   "outputs": [
    {
     "name": "stdout",
     "output_type": "stream",
     "text": [
      "[0, 1, 2, 3]\n"
     ]
    }
   ],
   "source": [
    "def incr():\n",
    "    a = 0\n",
    "    while a < 4:\n",
    "        yield a\n",
    "        a += 1\n",
    "        \n",
    "num = [a for a in incr()]\n",
    "print(num)"
   ]
  },
  {
   "cell_type": "code",
   "execution_count": null,
   "metadata": {
    "collapsed": true
   },
   "outputs": [],
   "source": []
  }
 ],
 "metadata": {
  "kernelspec": {
   "display_name": "Python 3",
   "language": "python",
   "name": "python3"
  },
  "language_info": {
   "codemirror_mode": {
    "name": "ipython",
    "version": 3
   },
   "file_extension": ".py",
   "mimetype": "text/x-python",
   "name": "python",
   "nbconvert_exporter": "python",
   "pygments_lexer": "ipython3",
   "version": "3.6.6"
  }
 },
 "nbformat": 4,
 "nbformat_minor": 2
}
