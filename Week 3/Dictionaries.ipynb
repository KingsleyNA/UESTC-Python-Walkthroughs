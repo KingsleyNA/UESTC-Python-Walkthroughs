{
 "cells": [
  {
   "cell_type": "code",
   "execution_count": 2,
   "metadata": {},
   "outputs": [
    {
     "name": "stdout",
     "output_type": "stream",
     "text": [
      "Ferrari\n"
     ]
    }
   ],
   "source": [
    "# key - value\n",
    "\n",
    "cars = {\n",
    "    0: \"Ferrari\", \n",
    "    1: \"Porsche\", \n",
    "    2: \"Ford\", \n",
    "    3: \"Ford\"\n",
    "}\n",
    "\n",
    "print(cars[0])"
   ]
  },
  {
   "cell_type": "code",
   "execution_count": 6,
   "metadata": {},
   "outputs": [
    {
     "name": "stdout",
     "output_type": "stream",
     "text": [
      "<class 'tuple'>\n"
     ]
    }
   ],
   "source": [
    "person = {\n",
    "    \"firstname\": \"Kwabena is a good boy\",\n",
    "    \"lastname\" : \"Sarpong\",\n",
    "    \"year\": 1964,\n",
    "    \"colors\": (\"purple\", \"red\", \"yellow\"),\n",
    "}\n",
    "#print(person)\n",
    "\n",
    "print(type(person[\"colors\"]))"
   ]
  },
  {
   "cell_type": "code",
   "execution_count": 7,
   "metadata": {},
   "outputs": [
    {
     "data": {
      "text/plain": [
       "4"
      ]
     },
     "execution_count": 7,
     "metadata": {},
     "output_type": "execute_result"
    }
   ],
   "source": [
    "len(person)"
   ]
  },
  {
   "cell_type": "code",
   "execution_count": 9,
   "metadata": {},
   "outputs": [
    {
     "data": {
      "text/plain": [
       "dict"
      ]
     },
     "execution_count": 9,
     "metadata": {},
     "output_type": "execute_result"
    }
   ],
   "source": [
    "type(person)"
   ]
  },
  {
   "cell_type": "code",
   "execution_count": 8,
   "metadata": {},
   "outputs": [
    {
     "data": {
      "text/plain": [
       "dict_keys(['firstname', 'lastname', 'year', 'colors'])"
      ]
     },
     "execution_count": 8,
     "metadata": {},
     "output_type": "execute_result"
    }
   ],
   "source": [
    "person.keys()"
   ]
  },
  {
   "cell_type": "code",
   "execution_count": 9,
   "metadata": {},
   "outputs": [
    {
     "data": {
      "text/plain": [
       "dict_values(['Kwabena is a good boy', 'Sarpong', 1964, ('purple', 'red', 'yellow')])"
      ]
     },
     "execution_count": 9,
     "metadata": {},
     "output_type": "execute_result"
    }
   ],
   "source": [
    "person.values()"
   ]
  },
  {
   "cell_type": "code",
   "execution_count": 23,
   "metadata": {},
   "outputs": [
    {
     "name": "stdout",
     "output_type": "stream",
     "text": [
      "{'dept1': 'SISE', 'dept2': 'SSEE', 'dept3': 'CSE'}\n",
      "\n",
      "{'dept1': 'SISE', 'dept2': 'MSE', 'dept3': 'CSE'}\n",
      "\n",
      "{'dept1': 'SISE', 'dept2': 'Sports', 'dept3': 'CSE', 'year': 1964, 'colors': ('purple', 'red', 'yellow')}\n"
     ]
    }
   ],
   "source": [
    "# Change\n",
    "\n",
    "uestc ={\n",
    "    \"dept1\": \"SISE\",\n",
    "    \"dept2\": \"SSEE\",\n",
    "    \"dept3\": \"CSE\",\n",
    "}\n",
    "\n",
    "print(uestc)\n",
    "print()\n",
    "\n",
    "uestc[\"dept2\"] = \"MSE\"\n",
    "print(uestc)\n",
    "print()\n",
    "\n",
    "uestc.update({\n",
    "    \"dept2\": \"Sports\",\n",
    "    \"year\": 1964,\n",
    "    \"colors\": (\"purple\", \"red\", \"yellow\"),\n",
    "})\n",
    "print(uestc)\n"
   ]
  },
  {
   "cell_type": "code",
   "execution_count": 24,
   "metadata": {},
   "outputs": [
    {
     "name": "stdout",
     "output_type": "stream",
     "text": [
      "{'dept1': 'SISE', 'dept2': 'Sports', 'dept3': 'CSE', 'year': 1964, 'colors': ('purple', 'red', 'yellow')}\n",
      "{'dept1': 'SISE', 'dept2': 'Sports', 'dept3': 'CSE', 'year': 1964}\n"
     ]
    },
    {
     "data": {
      "text/plain": [
       "{'dept1': 'SISE', 'dept2': 'Sports', 'dept3': 'CSE'}"
      ]
     },
     "execution_count": 24,
     "metadata": {},
     "output_type": "execute_result"
    }
   ],
   "source": [
    "# remove by popping\n",
    "\n",
    "print(uestc)\n",
    "\n",
    "uestc.pop(\"colors\")\n",
    "print(uestc)\n",
    "\n",
    "\n",
    "\n",
    "# remove by popping the last item\n",
    "uestc.popitem()\n",
    "uestc"
   ]
  },
  {
   "cell_type": "code",
   "execution_count": 25,
   "metadata": {
    "collapsed": true
   },
   "outputs": [],
   "source": [
    "uestc.clear()"
   ]
  },
  {
   "cell_type": "code",
   "execution_count": 26,
   "metadata": {},
   "outputs": [
    {
     "data": {
      "text/plain": [
       "{}"
      ]
     },
     "execution_count": 26,
     "metadata": {},
     "output_type": "execute_result"
    }
   ],
   "source": [
    "uestc"
   ]
  },
  {
   "cell_type": "code",
   "execution_count": 27,
   "metadata": {
    "collapsed": true
   },
   "outputs": [],
   "source": [
    "del uestc"
   ]
  },
  {
   "cell_type": "code",
   "execution_count": 28,
   "metadata": {},
   "outputs": [
    {
     "ename": "NameError",
     "evalue": "name 'uestc' is not defined",
     "output_type": "error",
     "traceback": [
      "\u001b[1;31m---------------------------------------------------------------------\u001b[0m",
      "\u001b[1;31mNameError\u001b[0m                           Traceback (most recent call last)",
      "\u001b[1;32m<ipython-input-28-82b2c68f1a10>\u001b[0m in \u001b[0;36m<module>\u001b[1;34m()\u001b[0m\n\u001b[1;32m----> 1\u001b[1;33m \u001b[0muestc\u001b[0m\u001b[1;33m\u001b[0m\u001b[0m\n\u001b[0m",
      "\u001b[1;31mNameError\u001b[0m: name 'uestc' is not defined"
     ]
    }
   ],
   "source": [
    "uestc"
   ]
  },
  {
   "cell_type": "code",
   "execution_count": 38,
   "metadata": {},
   "outputs": [
    {
     "name": "stdout",
     "output_type": "stream",
     "text": [
      "Great\n",
      "100\n",
      "Edward\n",
      "90\n",
      "Abena\n",
      "80\n"
     ]
    }
   ],
   "source": [
    "#nested dicts\n",
    "\n",
    "lecture = {\n",
    "    1: {\n",
    "        \"firstname\": \"Great\",\n",
    "        \"score\": 100\n",
    "    },\n",
    "    \n",
    "    2: {\n",
    "        \"firstname\": \"Edward\",\n",
    "        \"score\": 90\n",
    "    },\n",
    "    \n",
    "    \"special\": {\n",
    "        \"firstname\": \"Abena\",\n",
    "        \"score\": 80\n",
    "    },\n",
    "}\n",
    "\n",
    "#print(lecture)\n",
    "print(lecture[1][\"firstname\"])\n",
    "print(lecture[1][\"score\"])\n",
    "print(lecture[2][\"firstname\"])\n",
    "print(lecture[2][\"score\"])\n",
    "print(lecture[\"special\"][\"firstname\"])\n",
    "print(lecture[\"special\"][\"score\"])"
   ]
  },
  {
   "cell_type": "code",
   "execution_count": 41,
   "metadata": {},
   "outputs": [
    {
     "name": "stdout",
     "output_type": "stream",
     "text": [
      "Great\n"
     ]
    }
   ],
   "source": [
    "# effective nested dicts\n",
    "\n",
    "fir = {\n",
    "    \"firstname\": \"Great\",\n",
    "        \"score\": 100\n",
    "}\n",
    "\n",
    "sec = {\n",
    "    \"firstname\": \"Edward\",\n",
    "        \"score\": 90\n",
    "}\n",
    "\n",
    "thi = {\n",
    "    \"firstname\": \"Abena\",\n",
    "        \"score\": 80\n",
    "}\n",
    "\n",
    "_class ={\n",
    "    1: fir,\n",
    "    2: sec,\n",
    "    3: thi\n",
    "}\n",
    "\n",
    "print(_class[1][\"firstname\"])"
   ]
  },
  {
   "cell_type": "code",
   "execution_count": null,
   "metadata": {
    "collapsed": true
   },
   "outputs": [],
   "source": []
  }
 ],
 "metadata": {
  "kernelspec": {
   "display_name": "Python 3",
   "language": "python",
   "name": "python3"
  },
  "language_info": {
   "codemirror_mode": {
    "name": "ipython",
    "version": 3
   },
   "file_extension": ".py",
   "mimetype": "text/x-python",
   "name": "python",
   "nbconvert_exporter": "python",
   "pygments_lexer": "ipython3",
   "version": "3.6.6"
  }
 },
 "nbformat": 4,
 "nbformat_minor": 2
}
