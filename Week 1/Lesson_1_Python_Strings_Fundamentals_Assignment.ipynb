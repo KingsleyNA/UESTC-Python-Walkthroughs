{
 "cells": [
  {
   "cell_type": "markdown",
   "metadata": {},
   "source": [
    "# Python String Exercises to Pull "
   ]
  },
  {
   "cell_type": "markdown",
   "metadata": {},
   "source": [
    "#### Question 1 \n",
    "Given a string of odd length greater than 7, return a new string made of the middle three characters of a given String"
   ]
  },
  {
   "cell_type": "code",
   "execution_count": 5,
   "metadata": {},
   "outputs": [
    {
     "name": "stdout",
     "output_type": "stream",
     "text": [
      "Dip\n"
     ]
    }
   ],
   "source": [
    "#---- Examples -------------------------\n",
    "\n",
    "input_string = \"JhonDipPetaJhonDipPetaJhonDipPetaJhonDipPetaJhonDipPetaJhonDipPetaJhonDipPeta\"    \n",
    "# expected_output: \"Dip\"\n",
    "\n",
    "# input_string = \"JaSonAy\"\n",
    "# expected_output: \"Son\"\n",
    "\n",
    "#---------------------------------------\n",
    "\n",
    "\n",
    "# Your Solution Here\n",
    "\n",
    "mid = int(len(input_string)/2)\n",
    "mid3 = input_string[mid-1 : mid+2]\n",
    "\n",
    "print(mid3)\n",
    "\n",
    "\n"
   ]
  },
  {
   "cell_type": "markdown",
   "metadata": {},
   "source": [
    "#### Question 2 \n",
    "Given two strings, s1 and s2, create a new string by appending s2 in the middle of s1"
   ]
  },
  {
   "cell_type": "code",
   "execution_count": 15,
   "metadata": {},
   "outputs": [
    {
     "name": "stdout",
     "output_type": "stream",
     "text": [
      "efg\n"
     ]
    }
   ],
   "source": [
    "#---- Examples -------------------------\n",
    "\n",
    "# s1 = \"Ault\"\n",
    "# s2 = \"Kelly\"\n",
    "\n",
    "# expected_output: \"AuKellylt\"\n",
    "\n",
    "#---------------------------------------\n",
    "\n",
    "\n",
    "# Your Solution Here\n",
    "\n",
    "string1 = \"abcdefg\"\n",
    "part = string1[4:]\n",
    "\n",
    "print(part)\n"
   ]
  },
  {
   "cell_type": "markdown",
   "metadata": {},
   "source": [
    "#### Question 3\n",
    "Given two strings, s1, and s2 return a new string made of the first, middle, and last characters each input string"
   ]
  },
  {
   "cell_type": "code",
   "execution_count": 21,
   "metadata": {},
   "outputs": [
    {
     "name": "stdout",
     "output_type": "stream",
     "text": [
      "AJrmaa\n"
     ]
    }
   ],
   "source": [
    "#---- Examples -------------------------\n",
    "s1 = \"AmericaAmericaAmericaAmericaAmericaAmericaAmericaAmericaAmerica\"\n",
    "s2 = \"JapanAmericaAmericaAmericaAmericaAmericaAmericaAmericaAmericaAmerica\"\n",
    "\n",
    "# expected_output: \"AJrpan\"\n",
    "\n",
    "#---------------------------------------\n",
    "\n",
    "\n",
    "# Your Solution Here\n",
    "\n",
    "\n",
    "first = s1[0] + s2[0]\n",
    "mid = s1[int(len(s1)/2)] + s2[int(len(s2)/2)]\n",
    "last = s1[-1] + s2[-1]\n",
    "\n",
    "print(first + mid + last)\n"
   ]
  },
  {
   "cell_type": "markdown",
   "metadata": {},
   "source": [
    "#### Question 4\n",
    "Count all digits from a given string"
   ]
  },
  {
   "cell_type": "code",
   "execution_count": null,
   "metadata": {
    "collapsed": true
   },
   "outputs": [],
   "source": [
    "#---- Examples -------------------------\n",
    "\n",
    "# s1 = \"a1b2c3d4e5\"\n",
    "# s2 = \"Japan\"\n",
    "\n",
    "# expected_output: \"There are 5 digits in the string.\"\n",
    "\n",
    "#---------------------------------------\n",
    "\n",
    "\n",
    "# Your Solution Here\n",
    "\n"
   ]
  },
  {
   "cell_type": "markdown",
   "metadata": {},
   "source": [
    "#### Question 5\n",
    "Find all occurrences of a given word in a given string"
   ]
  },
  {
   "cell_type": "code",
   "execution_count": 35,
   "metadata": {},
   "outputs": [
    {
     "name": "stdout",
     "output_type": "stream",
     "text": [
      "['UESTC', 'is', 'young.UESTC', 'is', 'in', 'Sichuan.UESTC', 'is', 'fun.']\n",
      "There are 1 Uestc(s)in the sentence\n"
     ]
    },
    {
     "data": {
      "text/plain": [
       "'ABC23'"
      ]
     },
     "execution_count": 35,
     "metadata": {},
     "output_type": "execute_result"
    }
   ],
   "source": [
    "#---- Examples -------------------------\n",
    "\n",
    "word = \"UESTC\"\n",
    "s1 = \"UESTC is young.UESTC is in Sichuan.UESTC is fun.\"\n",
    "\n",
    "# expected_output: \"There are 3 occurences of UESTC.\"\n",
    "\n",
    "#---------------------------------------\n",
    "\n",
    "\n",
    "# Your Solution Here\n",
    "\n",
    "s1 = s1.split()\n",
    "print(s1)\n",
    "\n",
    "\n",
    "count = 0\n",
    "\n",
    "for _ in s1:\n",
    "    if _ == word:\n",
    "        count = count + 1\n",
    "\n",
    "print(\"There are\", count, \"Uestc(s)in the sentence\")\n",
    "\n"
   ]
  },
  {
   "cell_type": "markdown",
   "metadata": {},
   "source": [
    "#### Question 6\n",
    "Given a string, find the sum of all the numbers in the string."
   ]
  },
  {
   "cell_type": "code",
   "execution_count": 73,
   "metadata": {},
   "outputs": [
    {
     "name": "stdout",
     "output_type": "stream",
     "text": [
      "['1', 'potato,', '20001', 'potatoes,', '3', 'potatoes', '4', '5', '...']\n"
     ]
    },
    {
     "data": {
      "text/plain": [
       "20014"
      ]
     },
     "execution_count": 73,
     "metadata": {},
     "output_type": "execute_result"
    }
   ],
   "source": [
    "#---- Examples -------------------------\n",
    "\n",
    "s1 = \"1 potato, 20001 potatoes, 3 potatoes 4 5 ...\"\n",
    "# expected_output: \"The sum of the numbers in the string is 6\"\n",
    "\n",
    "# s2 = \"On the tenth day of Christmas my true love sent to me: \n",
    "#        10 Lords a Leaping, 9 Ladies Dancing, 8 Maids a Milking,\n",
    "#        7 Swans a Swimming, 6 Geese a Laying, 5 Golden Rings,\n",
    "#        4 Calling Birds,    3 French Hens,    2 Turtle Doves\n",
    "#        and a Partridge in a Pear Tree.\"\n",
    "# expected_output: \"The sum of the numbers in the string is 54\"\n",
    "\n",
    "#---------------------------------------\n",
    "\n",
    "\n",
    "# Your Solution Here\n",
    "\n",
    "count = 0\n",
    "\n",
    "s1 = s1.split()\n",
    "print(s1)\n",
    "\n",
    "for word in s1:\n",
    "    if word.isdigit():\n",
    "        count+= int(word)\n",
    "count"
   ]
  },
  {
   "cell_type": "markdown",
   "metadata": {},
   "source": [
    "#### Question 7:\n",
    "Reverse the string\n",
    "Note, do not use any special functions like \"reverse\"."
   ]
  },
  {
   "cell_type": "code",
   "execution_count": null,
   "metadata": {
    "collapsed": true
   },
   "outputs": [],
   "source": [
    "#---- Examples -------------------------\n",
    "\n",
    "# s1 = \"Delali adniL\"\n",
    "# expected_output: \"Linda Delali\"\n",
    "\n",
    "#---------------------------------------\n",
    "\n",
    "\n",
    "s1 = \"My very eye may just see\"\n",
    "\n",
    "s2 = \"eye\".reverse()\n",
    "\n",
    "s2 == \"eye\"\n",
    "\n",
    "\n",
    "# Your Solution Here"
   ]
  },
  {
   "cell_type": "code",
   "execution_count": 50,
   "metadata": {},
   "outputs": [
    {
     "name": "stdout",
     "output_type": "stream",
     "text": [
      "True\n",
      "True\n",
      "True\n",
      "<class 'str'>\n"
     ]
    }
   ],
   "source": [
    "#isdigit, isnumeric, isdecimal\n",
    "\n",
    "num = \"23\"\n",
    "\n",
    "print(num.isdigit())\n",
    "print(num.isnumeric())\n",
    "print(num.isdecimal())\n",
    "\n",
    "print(type(num))"
   ]
  },
  {
   "cell_type": "code",
   "execution_count": 58,
   "metadata": {},
   "outputs": [
    {
     "name": "stdout",
     "output_type": "stream",
     "text": [
      "3\n"
     ]
    }
   ],
   "source": [
    "a = \"1\"\n",
    "b = \"2\"\n",
    "\n",
    "print(\"3\")"
   ]
  },
  {
   "cell_type": "code",
   "execution_count": 52,
   "metadata": {},
   "outputs": [
    {
     "data": {
      "text/plain": [
       "65"
      ]
     },
     "execution_count": 52,
     "metadata": {},
     "output_type": "execute_result"
    }
   ],
   "source": [
    "def add(x,y):\n",
    "    return x+y\n",
    "\n",
    "add(30,35)"
   ]
  },
  {
   "cell_type": "code",
   "execution_count": null,
   "metadata": {
    "collapsed": true
   },
   "outputs": [],
   "source": [
    "brute-force\n",
    "basic\n",
    "---\n",
    "memoization\n",
    "dynamic programming"
   ]
  },
  {
   "cell_type": "markdown",
   "metadata": {},
   "source": [
    "# Great Methods with Strings"
   ]
  },
  {
   "cell_type": "markdown",
   "metadata": {},
   "source": [
    "#### capitalize()\t\n",
    "Converts the first character to upper case\n",
    "\n",
    "#### casefold()\t\n",
    "Converts string into lower case\n",
    "\n",
    "#### center()\t\n",
    "Returns a centered string\n",
    "\n",
    "#### count()\t\n",
    "Returns the number of times a specified value occurs in a string\n",
    "\n",
    "#### encode()\t\n",
    "Returns an encoded version of the string\n",
    "\n",
    "#### endswith()\t\n",
    "Returns true if the string ends with the specified value\n",
    "\n",
    "#### expandtabs()\t\n",
    "Sets the tab size of the string\n",
    "\n",
    "#### find()\t\n",
    "Searches the string for a specified value and returns the position of where it was found\n",
    "\n",
    "#### format()\t\n",
    "Formats specified values in a string\n",
    "\n",
    "#### format_map()\t\n",
    "Formats specified values in a string\n",
    "\n",
    "#### index()\t\n",
    "Searches the string for a specified value and returns the position of where it was found\n",
    "\n",
    "#### isalnum()\t\n",
    "Returns True if all characters in the string are alphanumeric\n",
    "\n",
    "#### isalpha()\t\n",
    "Returns True if all characters in the string are in the alphabet\n",
    "\n",
    "#### isdecimal()\t\n",
    "Returns True if all characters in the string are decimals\n",
    "\n",
    "#### isdigit()\t\n",
    "Returns True if all characters in the string are digits\n",
    "\n",
    "#### isidentifier()\t\n",
    "Returns True if the string is an identifier\n",
    "\n",
    "#### islower()\t\n",
    "Returns True if all characters in the string are lower case\n",
    "\n",
    "#### isnumeric()\t\n",
    "Returns True if all characters in the string are numeric\n",
    "\n",
    "#### isprintable()\t\n",
    "Returns True if all characters in the string are printable\n",
    "\n",
    "#### isspace()\t\n",
    "Returns True if all characters in the string are whitespaces\n",
    "\n",
    "#### istitle()\t\n",
    "Returns True if the string follows the rules of a title\n",
    "\n",
    "#### isupper()\t\n",
    "Returns True if all characters in the string are upper case\n",
    "\n",
    "#### join()\t\n",
    "Joins the elements of an iterable to the end of the string\n",
    "\n",
    "#### ljust()\t\n",
    "Returns a left justified version of the string\n",
    "\n",
    "#### lower()\t\n",
    "Converts a string into lower case\n",
    "\n",
    "#### lstrip()\t\n",
    "Returns a left trim version of the string"
   ]
  },
  {
   "cell_type": "markdown",
   "metadata": {},
   "source": [
    "#### maketrans()\t\n",
    "Returns a translation table to be used in translations\n",
    "\n",
    "#### partition()\t\n",
    "Returns a tuple where the string is parted into three parts\n",
    "\n",
    "#### replace()\t\n",
    "Returns a string where a specified value is replaced with a specified value\n",
    "\n",
    "#### rfind()\t\n",
    "Searches the string for a specified value and returns the last position of where it was found\n",
    "\n",
    "#### rindex()\t\n",
    "Searches the string for a specified value and returns the last position of where it was found\n",
    "\n",
    "#### rjust()\t\n",
    "Returns a right justified version of the string\n",
    "\n",
    "#### rpartition()\t\n",
    "Returns a tuple where the string is parted into three parts\n",
    "\n",
    "#### rsplit()\t\n",
    "Splits the string at the specified separator, and returns a list\n",
    "\n",
    "#### rstrip()\t\n",
    "Returns a right trim version of the string\n",
    "\n",
    "#### split()\t\n",
    "Splits the string at the specified separator, and returns a list\n",
    "\n",
    "#### splitlines()\t\n",
    "Splits the string at line breaks and returns a list\n",
    "\n",
    "#### startswith()\t\n",
    "Returns true if the string starts with the specified value\n",
    "\n",
    "#### strip()\t\n",
    "Returns a trimmed version of the string\n",
    "\n",
    "#### swapcase()\t\n",
    "Swaps cases, lower case becomes upper case and vice versa\n",
    "\n",
    "#### title()\t\n",
    "Converts the first character of each word to upper case\n",
    "\n",
    "#### translate()\t\n",
    "Returns a translated string\n",
    "\n",
    "#### upper()\t\n",
    "Converts a string into upper case\n",
    "\n",
    "#### zfill()\t\n",
    "Fills the string with a specified number of 0 values at the beginning"
   ]
  },
  {
   "cell_type": "code",
   "execution_count": null,
   "metadata": {
    "collapsed": true
   },
   "outputs": [],
   "source": [
    "s1 = \"Great\"\n",
    "\n",
    "print(num.isdigit())\n",
    "print(num.isnumeric())\n",
    "print(num.isdecimal())"
   ]
  },
  {
   "cell_type": "code",
   "execution_count": 10,
   "metadata": {},
   "outputs": [
    {
     "name": "stdout",
     "output_type": "stream",
     "text": [
      "This is my            ruddy             who is a ...\n"
     ]
    }
   ],
   "source": [
    "stre = \"ruddy\"\n",
    "\n",
    "stre = stre.center(30)\n",
    "\n",
    "print(\"This is my\" + stre + \"who is a ...\")"
   ]
  },
  {
   "cell_type": "code",
   "execution_count": 17,
   "metadata": {},
   "outputs": [
    {
     "data": {
      "text/plain": [
       "False"
      ]
     },
     "execution_count": 17,
     "metadata": {},
     "output_type": "execute_result"
    }
   ],
   "source": [
    "s1 = \"My \\n name is #1?\"\n",
    "s1.isprintable()"
   ]
  },
  {
   "cell_type": "code",
   "execution_count": null,
   "metadata": {
    "collapsed": true
   },
   "outputs": [],
   "source": [
    "format()\n",
    "Formats specified values in a string\n",
    "\n",
    "format_map()\n",
    "Formats specified values in a string"
   ]
  },
  {
   "cell_type": "code",
   "execution_count": 18,
   "metadata": {},
   "outputs": [
    {
     "name": "stdout",
     "output_type": "stream",
     "text": [
      "the answers are 4 and 16\n"
     ]
    }
   ],
   "source": [
    "x = 4\n",
    "y = 16\n",
    "\n",
    "print(\"the answers are {} and {}\".format(x,y))"
   ]
  },
  {
   "cell_type": "code",
   "execution_count": 22,
   "metadata": {},
   "outputs": [
    {
     "name": "stdout",
     "output_type": "stream",
     "text": [
      "the answers are {'x': 4, 'y': 16}\n",
      "the answers are 4 and 16\n"
     ]
    }
   ],
   "source": [
    "num = {'x':4, \n",
    "       'y':16}\n",
    "\n",
    "print(\"the answers are {}\".format(num))\n",
    "print(\"the answers are {x} and {y}\".format_map(num))"
   ]
  },
  {
   "cell_type": "code",
   "execution_count": null,
   "metadata": {
    "collapsed": true
   },
   "outputs": [],
   "source": []
  }
 ],
 "metadata": {
  "kernelspec": {
   "display_name": "Python 3",
   "language": "python",
   "name": "python3"
  },
  "language_info": {
   "codemirror_mode": {
    "name": "ipython",
    "version": 3
   },
   "file_extension": ".py",
   "mimetype": "text/x-python",
   "name": "python",
   "nbconvert_exporter": "python",
   "pygments_lexer": "ipython3",
   "version": "3.6.6"
  }
 },
 "nbformat": 4,
 "nbformat_minor": 2
}
