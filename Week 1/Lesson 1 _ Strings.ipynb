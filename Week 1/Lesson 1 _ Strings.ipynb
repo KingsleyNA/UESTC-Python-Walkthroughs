{
 "cells": [
  {
   "cell_type": "code",
   "execution_count": 1,
   "metadata": {
    "collapsed": true
   },
   "outputs": [],
   "source": [
    "# Characters \n",
    "# Strings"
   ]
  },
  {
   "cell_type": "code",
   "execution_count": 3,
   "metadata": {},
   "outputs": [
    {
     "name": "stdout",
     "output_type": "stream",
     "text": [
      "This is me!\n"
     ]
    }
   ],
   "source": [
    "sentence = \"This is me!\"\n",
    "\n",
    "print(sentence)"
   ]
  },
  {
   "cell_type": "code",
   "execution_count": 8,
   "metadata": {},
   "outputs": [
    {
     "name": "stdout",
     "output_type": "stream",
     "text": [
      "U\n",
      "E\n",
      "S\n",
      "T\n",
      "C\n"
     ]
    }
   ],
   "source": [
    "# Accessing strings ` [] square brackets\n",
    "\n",
    "school = \"UESTC\"\n",
    "\n",
    "print(school[0]) \n",
    "print(school[1])\n",
    "print(school[2])\n",
    "print(school[3])\n",
    "print(school[4]) "
   ]
  },
  {
   "cell_type": "code",
   "execution_count": 11,
   "metadata": {},
   "outputs": [
    {
     "name": "stdout",
     "output_type": "stream",
     "text": [
      "Q\n",
      "R\n"
     ]
    }
   ],
   "source": [
    "# 0, 1, 2,  ...\n",
    "#           ... -3, -2, -1\n",
    "school = \"UESTCUESTCUESTCUESTCUESTCUESTCUESTCUESTCUESTCUESTCUESTCUESTCUESTCUESTCUESTCUESTCUESRQ\"\n",
    "\n",
    "print(school[-1])\n",
    "print(school[-2])"
   ]
  },
  {
   "cell_type": "code",
   "execution_count": 23,
   "metadata": {},
   "outputs": [
    {
     "name": "stdout",
     "output_type": "stream",
     "text": [
      "45\n",
      "h\n"
     ]
    }
   ],
   "source": [
    "# Length --- len\n",
    "\n",
    "school = \"TheTheTheTheTheTheTheTheTheTheTheTheTheTheThe\"\n",
    "School = \" \"\n",
    "\n",
    "print(len(school))\n",
    "\n",
    "division = (len(school)/2) + 0.5\n",
    "division = int(division)\n",
    "\n",
    "print(school[division-1])"
   ]
  },
  {
   "cell_type": "code",
   "execution_count": 26,
   "metadata": {},
   "outputs": [
    {
     "name": "stdout",
     "output_type": "stream",
     "text": [
      "45\n",
      "ceil: 23\n",
      "Div: 22.5\n",
      "floor: 22\n"
     ]
    }
   ],
   "source": [
    "# Length --- len\n",
    "import math\n",
    "\n",
    "school = \"TheTheTheTheTheTheTheTheTheTheTheTheTheTheThe\"\n",
    "School = \" \"\n",
    "\n",
    "print(len(school))\n",
    "\n",
    "division = (len(school)/2)\n",
    "print(\"ceil:\", math.ceil(division))\n",
    "print(\"Div:\", division)\n",
    "print(\"floor:\", math.floor(division))"
   ]
  },
  {
   "cell_type": "code",
   "execution_count": 30,
   "metadata": {},
   "outputs": [
    {
     "name": "stdout",
     "output_type": "stream",
     "text": [
      "17\n"
     ]
    }
   ],
   "source": [
    "# Count   word.count(\"x\")\n",
    "\n",
    "gibb = \"UESTCUESTCUESTCUESTCUESTCUESTCUESTCUESTCUESTCUESTCUESTCUESTCUESTCUESTCUESTCUESTCUESRQ\"\n",
    "\n",
    "print(gibb.count(\"E\"))"
   ]
  },
  {
   "cell_type": "code",
   "execution_count": 32,
   "metadata": {},
   "outputs": [
    {
     "name": "stdout",
     "output_type": "stream",
     "text": [
      "-1\n"
     ]
    }
   ],
   "source": [
    "# Find   word.find(\"x\")\n",
    "\n",
    "gibb = \"UESTCUESTCUESTCUESTCUESTCUESTCUESTCUESTCUESTCUESTCUESTCUESTCUESTCUESTCUESTCUESTCUESRQ\"\n",
    "\n",
    "print(gibb.find(\"Z\"))"
   ]
  },
  {
   "cell_type": "code",
   "execution_count": 53,
   "metadata": {},
   "outputs": [
    {
     "name": "stdout",
     "output_type": "stream",
     "text": [
      "bravest!\n",
      "brave\n",
      "I am the \n",
      "I am the \n"
     ]
    }
   ],
   "source": [
    "# Slicing  word[*:*]\n",
    "\n",
    "brave = \"I am the bravest!\"\n",
    "\n",
    "print(brave[-8:]) # to the end\n",
    "print(brave[-8:-3]) # brave\n",
    "print(brave[0:9]) # brave\n",
    "print(brave[-18:-8]) # brave"
   ]
  },
  {
   "cell_type": "code",
   "execution_count": 51,
   "metadata": {},
   "outputs": [
    {
     "name": "stdout",
     "output_type": "stream",
     "text": [
      "0\n",
      "dbacbacbcbacbacbacbacabcabcabcbac\n"
     ]
    }
   ],
   "source": [
    "# Indexing word.index(\"anything\")\n",
    "\n",
    "gibbb = \"abcacbacbacbacbacabcabcabcabaccbacbacdbacbacbcbacbacbacbacabcabcabcbac\"\n",
    "\n",
    "print(gibbb.index(\"a\"))\n",
    "print(gibbb[37:])"
   ]
  },
  {
   "cell_type": "code",
   "execution_count": 54,
   "metadata": {},
   "outputs": [
    {
     "name": "stdout",
     "output_type": "stream",
     "text": [
      "I am GreatI am GreatI am GreatI am GreatI am GreatI am GreatI am GreatI am GreatI am GreatI am GreatI am GreatI am GreatI am GreatI am GreatI am GreatI am GreatI am GreatI am GreatI am GreatI am GreatI am GreatI am GreatI am GreatI am GreatI am GreatI am GreatI am GreatI am GreatI am GreatI am GreatI am GreatI am GreatI am GreatI am GreatI am GreatI am GreatI am GreatI am GreatI am GreatI am GreatI am GreatI am GreatI am GreatI am GreatI am GreatI am GreatI am GreatI am GreatI am GreatI am GreatI am GreatI am GreatI am GreatI am GreatI am GreatI am GreatI am GreatI am GreatI am GreatI am GreatI am GreatI am GreatI am GreatI am GreatI am GreatI am GreatI am GreatI am GreatI am GreatI am GreatI am GreatI am GreatI am GreatI am GreatI am GreatI am GreatI am GreatI am GreatI am GreatI am GreatI am GreatI am GreatI am GreatI am GreatI am GreatI am GreatI am GreatI am GreatI am GreatI am GreatI am GreatI am GreatI am GreatI am GreatI am GreatI am GreatI am GreatI am GreatI am GreatI am Great\n"
     ]
    }
   ],
   "source": [
    "# copy-paste  -----> multiplication '*'\n",
    "\n",
    "sent = \"I am Great\" * 100\n",
    "print(sent)"
   ]
  },
  {
   "cell_type": "code",
   "execution_count": 56,
   "metadata": {},
   "outputs": [
    {
     "name": "stdout",
     "output_type": "stream",
     "text": [
      "Strong Weak\n"
     ]
    }
   ],
   "source": [
    "# concatenation '+'\n",
    "\n",
    "firstname = \"Strong\"\n",
    "lastname = \"Weak\"\n",
    "\n",
    "fullname = firstname + \" \" + lastname\n",
    "print(fullname)"
   ]
  },
  {
   "cell_type": "code",
   "execution_count": 73,
   "metadata": {},
   "outputs": [
    {
     "name": "stdout",
     "output_type": "stream",
     "text": [
      "I am Great\n",
      "\n",
      "I am Great\n",
      "\n",
      "I am Great\n",
      "\n",
      "I am Great\n",
      "\n",
      "I am Great\n",
      "\n",
      "I am Great\n",
      "\n",
      "I am Great\n",
      "\n",
      "I am Great\n",
      "\n",
      "I am Great\n",
      "\n",
      "I am Great\n",
      "\n",
      "\n"
     ]
    }
   ],
   "source": [
    "# Escape Sequences\n",
    "\n",
    "sent = \"I am Great\\n\\n\" * 10\n",
    "print(sent)\n"
   ]
  },
  {
   "cell_type": "code",
   "execution_count": 68,
   "metadata": {},
   "outputs": [
    {
     "name": "stdout",
     "output_type": "stream",
     "text": [
      "The Man's got a hammer\n",
      "The Man said \" I am a beast.\". You got a hammer\n"
     ]
    }
   ],
   "source": [
    "print('The Man\\'s got a hammer')\n",
    "print(\"The Man said \\\" I am a beast.\\\". You got a hammer\")"
   ]
  },
  {
   "cell_type": "code",
   "execution_count": 69,
   "metadata": {},
   "outputs": [
    {
     "name": "stdout",
     "output_type": "stream",
     "text": [
      "\u0007\n"
     ]
    }
   ],
   "source": [
    "print(\"\\a\")"
   ]
  },
  {
   "cell_type": "code",
   "execution_count": 71,
   "metadata": {},
   "outputs": [
    {
     "name": "stdout",
     "output_type": "stream",
     "text": [
      "I am Great\t\t\t\t\t\t\t\tI am Great\t\t\t\t\t\t\t\tI am Great\t\t\t\t\t\t\t\tI am Great\t\t\t\t\t\t\t\tI am Great\t\t\t\t\t\t\t\tI am Great\t\t\t\t\t\t\t\tI am Great\t\t\t\t\t\t\t\tI am Great\t\t\t\t\t\t\t\tI am Great\t\t\t\t\t\t\t\tI am Great\t\t\t\t\t\t\t\t\n"
     ]
    }
   ],
   "source": [
    "sent = \"I am Great\\t\\t\\t\\t\\t\\t\\t\\t\" * 10\n",
    "print(sent)"
   ]
  },
  {
   "cell_type": "code",
   "execution_count": null,
   "metadata": {
    "collapsed": true
   },
   "outputs": [],
   "source": []
  },
  {
   "cell_type": "code",
   "execution_count": 74,
   "metadata": {},
   "outputs": [
    {
     "name": "stdout",
     "output_type": "stream",
     "text": [
      "These are the students:  Nana , Sherry and Love\n"
     ]
    }
   ],
   "source": [
    "a = \"Nana\"\n",
    "b = \"Sherry\"\n",
    "c = \"Love\"\n",
    "\n",
    "print(\"These are the students: \", a , \",\" , b , \"and\" , c)"
   ]
  },
  {
   "cell_type": "code",
   "execution_count": 79,
   "metadata": {},
   "outputs": [
    {
     "name": "stdout",
     "output_type": "stream",
     "text": [
      "These are the students: Nana, Sherry and Love\n",
      "These are the students: Love, Sherry and Nana\n",
      "These are the students: Nana, Love and Sherry\n"
     ]
    }
   ],
   "source": [
    "# Printing with order (format)\n",
    "\n",
    "a = \"Nana\"\n",
    "b = \"Sherry\"\n",
    "c = \"Love\"\n",
    "\n",
    "print(\"These are the students: {}, {} and {}\".format(a,b,c))\n",
    "\n",
    "print(\"These are the students: {}, {} and {}\".format(c,b,a))\n",
    "\n",
    "print(\"These are the students: {}, {} and {}\".format(a,c,b))"
   ]
  },
  {
   "cell_type": "code",
   "execution_count": 80,
   "metadata": {},
   "outputs": [
    {
     "name": "stdout",
     "output_type": "stream",
     "text": [
      "These are the students: Love, Nana and Sherry\n"
     ]
    }
   ],
   "source": [
    "a = \"Nana\"\n",
    "b = \"Sherry\"\n",
    "c = \"Love\"\n",
    "\n",
    "print(\"These are the students: {2}, {0} and {1}\".format(a,b,c))"
   ]
  },
  {
   "cell_type": "code",
   "execution_count": 81,
   "metadata": {},
   "outputs": [
    {
     "name": "stdout",
     "output_type": "stream",
     "text": [
      "These are the students: Nana, Sherry and Love\n"
     ]
    }
   ],
   "source": [
    "print(\"These are the students: {n}, {b} and {c}\".format(n=\"Nana\", b=\"Sherry\", c=\"Love\"))"
   ]
  },
  {
   "cell_type": "markdown",
   "metadata": {},
   "source": []
  },
  {
   "cell_type": "code",
   "execution_count": null,
   "metadata": {
    "collapsed": true
   },
   "outputs": [],
   "source": [
    "wait --- 90 mins, 9 hours,  .....   , 9 days, 9 weeks, 9 months"
   ]
  }
 ],
 "metadata": {
  "kernelspec": {
   "display_name": "Python 3",
   "language": "python",
   "name": "python3"
  },
  "language_info": {
   "codemirror_mode": {
    "name": "ipython",
    "version": 3
   },
   "file_extension": ".py",
   "mimetype": "text/x-python",
   "name": "python",
   "nbconvert_exporter": "python",
   "pygments_lexer": "ipython3",
   "version": "3.6.6"
  }
 },
 "nbformat": 4,
 "nbformat_minor": 2
}
